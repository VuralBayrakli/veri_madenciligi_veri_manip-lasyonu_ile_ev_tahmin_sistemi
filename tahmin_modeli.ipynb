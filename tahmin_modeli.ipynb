{
 "cells": [
  {
   "cell_type": "markdown",
   "metadata": {},
   "source": [
    "### Python'da Pandas ve NumPy Kütüphanelerinin İçe Aktarılması"
   ]
  },
  {
   "cell_type": "code",
   "execution_count": 34,
   "metadata": {
    "id": "O_hyImSSrGM5"
   },
   "outputs": [],
   "source": [
    "import pandas as pd\n",
    "import numpy as np"
   ]
  },
  {
   "cell_type": "markdown",
   "metadata": {},
   "source": [
    "### CSV Dosyasından Veri Okuma ve Pandas DataFrame Oluşturma"
   ]
  },
  {
   "cell_type": "code",
   "execution_count": 35,
   "metadata": {
    "id": "iHVZQbuvr3iN"
   },
   "outputs": [],
   "source": [
    "data = pd.read_csv(\"istanbul_ev_ilanlari(manipüle_edilmis).csv\", index_col=0)"
   ]
  },
  {
   "cell_type": "markdown",
   "metadata": {},
   "source": [
    "### Pandas DataFrame'de Eksik (Null) Değerlerin Sayısını Bulma"
   ]
  },
  {
   "cell_type": "code",
   "execution_count": 36,
   "metadata": {
    "colab": {
     "base_uri": "https://localhost:8080/"
    },
    "id": "3G6jQKmJr8i9",
    "outputId": "fe5419f0-d5c9-4627-e54a-a2c3e19d289b"
   },
   "outputs": [
    {
     "data": {
      "text/plain": [
       "info_          0\n",
       "location       0\n",
       "home prices    0\n",
       "room count     0\n",
       "m2             0\n",
       "age            0\n",
       "floor type     0\n",
       "dtype: int64"
      ]
     },
     "execution_count": 36,
     "metadata": {},
     "output_type": "execute_result"
    }
   ],
   "source": [
    "data.isnull().sum()"
   ]
  },
  {
   "cell_type": "code",
   "execution_count": 37,
   "metadata": {},
   "outputs": [
    {
     "data": {
      "text/html": [
       "<div>\n",
       "<style scoped>\n",
       "    .dataframe tbody tr th:only-of-type {\n",
       "        vertical-align: middle;\n",
       "    }\n",
       "\n",
       "    .dataframe tbody tr th {\n",
       "        vertical-align: top;\n",
       "    }\n",
       "\n",
       "    .dataframe thead th {\n",
       "        text-align: right;\n",
       "    }\n",
       "</style>\n",
       "<table border=\"1\" class=\"dataframe\">\n",
       "  <thead>\n",
       "    <tr style=\"text-align: right;\">\n",
       "      <th></th>\n",
       "      <th>info_</th>\n",
       "      <th>location</th>\n",
       "      <th>home prices</th>\n",
       "      <th>room count</th>\n",
       "      <th>m2</th>\n",
       "      <th>age</th>\n",
       "      <th>floor type</th>\n",
       "    </tr>\n",
       "  </thead>\n",
       "  <tbody>\n",
       "    <tr>\n",
       "      <th>0</th>\n",
       "      <td>Satılık Daire</td>\n",
       "      <td>adalar</td>\n",
       "      <td>6200000</td>\n",
       "      <td>3 + 1</td>\n",
       "      <td>130</td>\n",
       "      <td>26</td>\n",
       "      <td>2. Kat</td>\n",
       "    </tr>\n",
       "    <tr>\n",
       "      <th>1</th>\n",
       "      <td>Satılık Daire</td>\n",
       "      <td>adalar</td>\n",
       "      <td>7500000</td>\n",
       "      <td>3 + 1</td>\n",
       "      <td>140</td>\n",
       "      <td>30</td>\n",
       "      <td>Bahçe Katı</td>\n",
       "    </tr>\n",
       "    <tr>\n",
       "      <th>2</th>\n",
       "      <td>Satılık Daire</td>\n",
       "      <td>adalar</td>\n",
       "      <td>7980000</td>\n",
       "      <td>5 + 1</td>\n",
       "      <td>160</td>\n",
       "      <td>31</td>\n",
       "      <td>Bahçe Katı</td>\n",
       "    </tr>\n",
       "    <tr>\n",
       "      <th>3</th>\n",
       "      <td>Satılık Daire</td>\n",
       "      <td>adalar</td>\n",
       "      <td>6250000</td>\n",
       "      <td>4 + 1</td>\n",
       "      <td>170</td>\n",
       "      <td>20</td>\n",
       "      <td>En Üst Kat</td>\n",
       "    </tr>\n",
       "    <tr>\n",
       "      <th>4</th>\n",
       "      <td>Satılık Daire</td>\n",
       "      <td>adalar</td>\n",
       "      <td>4600000</td>\n",
       "      <td>4 + 1</td>\n",
       "      <td>140</td>\n",
       "      <td>40</td>\n",
       "      <td>Bahçe Katı</td>\n",
       "    </tr>\n",
       "    <tr>\n",
       "      <th>...</th>\n",
       "      <td>...</td>\n",
       "      <td>...</td>\n",
       "      <td>...</td>\n",
       "      <td>...</td>\n",
       "      <td>...</td>\n",
       "      <td>...</td>\n",
       "      <td>...</td>\n",
       "    </tr>\n",
       "    <tr>\n",
       "      <th>43447</th>\n",
       "      <td>Satılık Daire</td>\n",
       "      <td>zeytinburnu</td>\n",
       "      <td>7500000</td>\n",
       "      <td>3 + 1</td>\n",
       "      <td>130</td>\n",
       "      <td>30</td>\n",
       "      <td>8. Kat</td>\n",
       "    </tr>\n",
       "    <tr>\n",
       "      <th>43448</th>\n",
       "      <td>Satılık Daire</td>\n",
       "      <td>zeytinburnu</td>\n",
       "      <td>3000000</td>\n",
       "      <td>3 + 2</td>\n",
       "      <td>160</td>\n",
       "      <td>15</td>\n",
       "      <td>3. Kat</td>\n",
       "    </tr>\n",
       "    <tr>\n",
       "      <th>43449</th>\n",
       "      <td>Satılık Daire</td>\n",
       "      <td>zeytinburnu</td>\n",
       "      <td>2600000</td>\n",
       "      <td>3 + 1</td>\n",
       "      <td>130</td>\n",
       "      <td>28</td>\n",
       "      <td>12. Kat</td>\n",
       "    </tr>\n",
       "    <tr>\n",
       "      <th>43450</th>\n",
       "      <td>Satılık Daire</td>\n",
       "      <td>zeytinburnu</td>\n",
       "      <td>2100000</td>\n",
       "      <td>2 + 1</td>\n",
       "      <td>100</td>\n",
       "      <td>25</td>\n",
       "      <td>2. Kat</td>\n",
       "    </tr>\n",
       "    <tr>\n",
       "      <th>43451</th>\n",
       "      <td>Satılık Daire</td>\n",
       "      <td>zeytinburnu</td>\n",
       "      <td>970000</td>\n",
       "      <td>2 + 1</td>\n",
       "      <td>80</td>\n",
       "      <td>28</td>\n",
       "      <td>5. Kat</td>\n",
       "    </tr>\n",
       "  </tbody>\n",
       "</table>\n",
       "<p>43452 rows × 7 columns</p>\n",
       "</div>"
      ],
      "text/plain": [
       "               info_     location  home prices room count   m2  age  \\\n",
       "0      Satılık Daire       adalar      6200000      3 + 1  130   26   \n",
       "1      Satılık Daire       adalar      7500000      3 + 1  140   30   \n",
       "2      Satılık Daire       adalar      7980000      5 + 1  160   31   \n",
       "3      Satılık Daire       adalar      6250000      4 + 1  170   20   \n",
       "4      Satılık Daire       adalar      4600000      4 + 1  140   40   \n",
       "...              ...          ...          ...        ...  ...  ...   \n",
       "43447  Satılık Daire  zeytinburnu      7500000      3 + 1  130   30   \n",
       "43448  Satılık Daire  zeytinburnu      3000000      3 + 2  160   15   \n",
       "43449  Satılık Daire  zeytinburnu      2600000      3 + 1  130   28   \n",
       "43450  Satılık Daire  zeytinburnu      2100000      2 + 1  100   25   \n",
       "43451  Satılık Daire  zeytinburnu       970000      2 + 1   80   28   \n",
       "\n",
       "       floor type  \n",
       "0          2. Kat  \n",
       "1      Bahçe Katı  \n",
       "2      Bahçe Katı  \n",
       "3      En Üst Kat  \n",
       "4      Bahçe Katı  \n",
       "...           ...  \n",
       "43447      8. Kat  \n",
       "43448      3. Kat  \n",
       "43449     12. Kat  \n",
       "43450      2. Kat  \n",
       "43451      5. Kat  \n",
       "\n",
       "[43452 rows x 7 columns]"
      ]
     },
     "execution_count": 37,
     "metadata": {},
     "output_type": "execute_result"
    }
   ],
   "source": [
    "data"
   ]
  },
  {
   "cell_type": "markdown",
   "metadata": {},
   "source": [
    "### Kategorik Değişkenleri Sayısal Değerlere Dönüştürme (Label Encoding)"
   ]
  },
  {
   "cell_type": "code",
   "execution_count": 38,
   "metadata": {},
   "outputs": [],
   "source": [
    "data2 = data.copy()"
   ]
  },
  {
   "cell_type": "code",
   "execution_count": 39,
   "metadata": {},
   "outputs": [],
   "source": [
    "from sklearn.preprocessing import LabelEncoder\n",
    "\n",
    "le_loc = LabelEncoder()\n",
    "le_rc = LabelEncoder()\n",
    "le_ft = LabelEncoder()\n",
    "\n",
    "data[\"location\"] = le_loc.fit_transform(data[\"location\"])\n",
    "data[\"room count\"] = le_rc.fit_transform(data[\"room count\"])\n",
    "data[\"floor type\"] = le_ft.fit_transform(data[\"floor type\"])"
   ]
  },
  {
   "cell_type": "code",
   "execution_count": 40,
   "metadata": {},
   "outputs": [
    {
     "data": {
      "text/html": [
       "<div>\n",
       "<style scoped>\n",
       "    .dataframe tbody tr th:only-of-type {\n",
       "        vertical-align: middle;\n",
       "    }\n",
       "\n",
       "    .dataframe tbody tr th {\n",
       "        vertical-align: top;\n",
       "    }\n",
       "\n",
       "    .dataframe thead th {\n",
       "        text-align: right;\n",
       "    }\n",
       "</style>\n",
       "<table border=\"1\" class=\"dataframe\">\n",
       "  <thead>\n",
       "    <tr style=\"text-align: right;\">\n",
       "      <th></th>\n",
       "      <th>info_</th>\n",
       "      <th>location</th>\n",
       "      <th>home prices</th>\n",
       "      <th>room count</th>\n",
       "      <th>m2</th>\n",
       "      <th>age</th>\n",
       "      <th>floor type</th>\n",
       "    </tr>\n",
       "  </thead>\n",
       "  <tbody>\n",
       "    <tr>\n",
       "      <th>0</th>\n",
       "      <td>Satılık Daire</td>\n",
       "      <td>0</td>\n",
       "      <td>6200000</td>\n",
       "      <td>12</td>\n",
       "      <td>130</td>\n",
       "      <td>26</td>\n",
       "      <td>11</td>\n",
       "    </tr>\n",
       "    <tr>\n",
       "      <th>1</th>\n",
       "      <td>Satılık Daire</td>\n",
       "      <td>0</td>\n",
       "      <td>7500000</td>\n",
       "      <td>12</td>\n",
       "      <td>140</td>\n",
       "      <td>30</td>\n",
       "      <td>23</td>\n",
       "    </tr>\n",
       "    <tr>\n",
       "      <th>2</th>\n",
       "      <td>Satılık Daire</td>\n",
       "      <td>0</td>\n",
       "      <td>7980000</td>\n",
       "      <td>24</td>\n",
       "      <td>160</td>\n",
       "      <td>31</td>\n",
       "      <td>23</td>\n",
       "    </tr>\n",
       "    <tr>\n",
       "      <th>3</th>\n",
       "      <td>Satılık Daire</td>\n",
       "      <td>0</td>\n",
       "      <td>6250000</td>\n",
       "      <td>19</td>\n",
       "      <td>170</td>\n",
       "      <td>20</td>\n",
       "      <td>26</td>\n",
       "    </tr>\n",
       "    <tr>\n",
       "      <th>4</th>\n",
       "      <td>Satılık Daire</td>\n",
       "      <td>0</td>\n",
       "      <td>4600000</td>\n",
       "      <td>19</td>\n",
       "      <td>140</td>\n",
       "      <td>40</td>\n",
       "      <td>23</td>\n",
       "    </tr>\n",
       "    <tr>\n",
       "      <th>...</th>\n",
       "      <td>...</td>\n",
       "      <td>...</td>\n",
       "      <td>...</td>\n",
       "      <td>...</td>\n",
       "      <td>...</td>\n",
       "      <td>...</td>\n",
       "      <td>...</td>\n",
       "    </tr>\n",
       "    <tr>\n",
       "      <th>43447</th>\n",
       "      <td>Satılık Daire</td>\n",
       "      <td>38</td>\n",
       "      <td>7500000</td>\n",
       "      <td>12</td>\n",
       "      <td>130</td>\n",
       "      <td>30</td>\n",
       "      <td>19</td>\n",
       "    </tr>\n",
       "    <tr>\n",
       "      <th>43448</th>\n",
       "      <td>Satılık Daire</td>\n",
       "      <td>38</td>\n",
       "      <td>3000000</td>\n",
       "      <td>14</td>\n",
       "      <td>160</td>\n",
       "      <td>15</td>\n",
       "      <td>14</td>\n",
       "    </tr>\n",
       "    <tr>\n",
       "      <th>43449</th>\n",
       "      <td>Satılık Daire</td>\n",
       "      <td>38</td>\n",
       "      <td>2600000</td>\n",
       "      <td>12</td>\n",
       "      <td>130</td>\n",
       "      <td>28</td>\n",
       "      <td>3</td>\n",
       "    </tr>\n",
       "    <tr>\n",
       "      <th>43450</th>\n",
       "      <td>Satılık Daire</td>\n",
       "      <td>38</td>\n",
       "      <td>2100000</td>\n",
       "      <td>6</td>\n",
       "      <td>100</td>\n",
       "      <td>25</td>\n",
       "      <td>11</td>\n",
       "    </tr>\n",
       "    <tr>\n",
       "      <th>43451</th>\n",
       "      <td>Satılık Daire</td>\n",
       "      <td>38</td>\n",
       "      <td>970000</td>\n",
       "      <td>6</td>\n",
       "      <td>80</td>\n",
       "      <td>28</td>\n",
       "      <td>16</td>\n",
       "    </tr>\n",
       "  </tbody>\n",
       "</table>\n",
       "<p>43452 rows × 7 columns</p>\n",
       "</div>"
      ],
      "text/plain": [
       "               info_  location  home prices  room count   m2  age  floor type\n",
       "0      Satılık Daire         0      6200000          12  130   26          11\n",
       "1      Satılık Daire         0      7500000          12  140   30          23\n",
       "2      Satılık Daire         0      7980000          24  160   31          23\n",
       "3      Satılık Daire         0      6250000          19  170   20          26\n",
       "4      Satılık Daire         0      4600000          19  140   40          23\n",
       "...              ...       ...          ...         ...  ...  ...         ...\n",
       "43447  Satılık Daire        38      7500000          12  130   30          19\n",
       "43448  Satılık Daire        38      3000000          14  160   15          14\n",
       "43449  Satılık Daire        38      2600000          12  130   28           3\n",
       "43450  Satılık Daire        38      2100000           6  100   25          11\n",
       "43451  Satılık Daire        38       970000           6   80   28          16\n",
       "\n",
       "[43452 rows x 7 columns]"
      ]
     },
     "execution_count": 40,
     "metadata": {},
     "output_type": "execute_result"
    }
   ],
   "source": [
    "data"
   ]
  },
  {
   "cell_type": "markdown",
   "metadata": {},
   "source": [
    "### Veri Setini Özellikler ve Hedef Değişken Olarak Ayırma ve Eğitim-Test Veri Seti Oluşturma"
   ]
  },
  {
   "cell_type": "code",
   "execution_count": 41,
   "metadata": {},
   "outputs": [],
   "source": [
    "X = data.drop([\"home prices\", \"info_\"], axis=1)\n",
    "y = np.log(data[\"home prices\"])\n",
    "from sklearn.model_selection import train_test_split\n",
    "X_train, X_test, y_train, y_test = train_test_split(X, y, test_size=0.2, random_state=46)"
   ]
  },
  {
   "cell_type": "markdown",
   "metadata": {},
   "source": [
    "### Scikit-Learn Kütüphanesinden Modül ve Fonksiyonların İçe Aktarılması"
   ]
  },
  {
   "cell_type": "code",
   "execution_count": 42,
   "metadata": {
    "id": "oIpB_eE0LbCq"
   },
   "outputs": [],
   "source": [
    "from sklearn.model_selection import GridSearchCV ,train_test_split, cross_val_score\n",
    "from sklearn.metrics import mean_squared_error, r2_score,mean_absolute_error,accuracy_score\n",
    "from sklearn import model_selection\n",
    "from sklearn.preprocessing import RobustScaler, StandardScaler"
   ]
  },
  {
   "cell_type": "markdown",
   "metadata": {
    "id": "OZ10NRDmuZzl"
   },
   "source": [
    "### LinearRegression ile model kurma"
   ]
  },
  {
   "cell_type": "code",
   "execution_count": 43,
   "metadata": {
    "id": "YUTx_NfxuAVi"
   },
   "outputs": [],
   "source": [
    "from sklearn.linear_model import LinearRegression\n",
    "from sklearn.preprocessing import RobustScaler, StandardScaler"
   ]
  },
  {
   "cell_type": "code",
   "execution_count": 44,
   "metadata": {
    "colab": {
     "base_uri": "https://localhost:8080/",
     "height": 74
    },
    "id": "RiqAAhC3uALq",
    "outputId": "890d37f0-6f8c-45ea-d082-f2970ac614a9",
    "scrolled": false
   },
   "outputs": [
    {
     "data": {
      "text/html": [
       "<style>#sk-container-id-2 {color: black;}#sk-container-id-2 pre{padding: 0;}#sk-container-id-2 div.sk-toggleable {background-color: white;}#sk-container-id-2 label.sk-toggleable__label {cursor: pointer;display: block;width: 100%;margin-bottom: 0;padding: 0.3em;box-sizing: border-box;text-align: center;}#sk-container-id-2 label.sk-toggleable__label-arrow:before {content: \"▸\";float: left;margin-right: 0.25em;color: #696969;}#sk-container-id-2 label.sk-toggleable__label-arrow:hover:before {color: black;}#sk-container-id-2 div.sk-estimator:hover label.sk-toggleable__label-arrow:before {color: black;}#sk-container-id-2 div.sk-toggleable__content {max-height: 0;max-width: 0;overflow: hidden;text-align: left;background-color: #f0f8ff;}#sk-container-id-2 div.sk-toggleable__content pre {margin: 0.2em;color: black;border-radius: 0.25em;background-color: #f0f8ff;}#sk-container-id-2 input.sk-toggleable__control:checked~div.sk-toggleable__content {max-height: 200px;max-width: 100%;overflow: auto;}#sk-container-id-2 input.sk-toggleable__control:checked~label.sk-toggleable__label-arrow:before {content: \"▾\";}#sk-container-id-2 div.sk-estimator input.sk-toggleable__control:checked~label.sk-toggleable__label {background-color: #d4ebff;}#sk-container-id-2 div.sk-label input.sk-toggleable__control:checked~label.sk-toggleable__label {background-color: #d4ebff;}#sk-container-id-2 input.sk-hidden--visually {border: 0;clip: rect(1px 1px 1px 1px);clip: rect(1px, 1px, 1px, 1px);height: 1px;margin: -1px;overflow: hidden;padding: 0;position: absolute;width: 1px;}#sk-container-id-2 div.sk-estimator {font-family: monospace;background-color: #f0f8ff;border: 1px dotted black;border-radius: 0.25em;box-sizing: border-box;margin-bottom: 0.5em;}#sk-container-id-2 div.sk-estimator:hover {background-color: #d4ebff;}#sk-container-id-2 div.sk-parallel-item::after {content: \"\";width: 100%;border-bottom: 1px solid gray;flex-grow: 1;}#sk-container-id-2 div.sk-label:hover label.sk-toggleable__label {background-color: #d4ebff;}#sk-container-id-2 div.sk-serial::before {content: \"\";position: absolute;border-left: 1px solid gray;box-sizing: border-box;top: 0;bottom: 0;left: 50%;z-index: 0;}#sk-container-id-2 div.sk-serial {display: flex;flex-direction: column;align-items: center;background-color: white;padding-right: 0.2em;padding-left: 0.2em;position: relative;}#sk-container-id-2 div.sk-item {position: relative;z-index: 1;}#sk-container-id-2 div.sk-parallel {display: flex;align-items: stretch;justify-content: center;background-color: white;position: relative;}#sk-container-id-2 div.sk-item::before, #sk-container-id-2 div.sk-parallel-item::before {content: \"\";position: absolute;border-left: 1px solid gray;box-sizing: border-box;top: 0;bottom: 0;left: 50%;z-index: -1;}#sk-container-id-2 div.sk-parallel-item {display: flex;flex-direction: column;z-index: 1;position: relative;background-color: white;}#sk-container-id-2 div.sk-parallel-item:first-child::after {align-self: flex-end;width: 50%;}#sk-container-id-2 div.sk-parallel-item:last-child::after {align-self: flex-start;width: 50%;}#sk-container-id-2 div.sk-parallel-item:only-child::after {width: 0;}#sk-container-id-2 div.sk-dashed-wrapped {border: 1px dashed gray;margin: 0 0.4em 0.5em 0.4em;box-sizing: border-box;padding-bottom: 0.4em;background-color: white;}#sk-container-id-2 div.sk-label label {font-family: monospace;font-weight: bold;display: inline-block;line-height: 1.2em;}#sk-container-id-2 div.sk-label-container {text-align: center;}#sk-container-id-2 div.sk-container {/* jupyter's `normalize.less` sets `[hidden] { display: none; }` but bootstrap.min.css set `[hidden] { display: none !important; }` so we also need the `!important` here to be able to override the default hidden behavior on the sphinx rendered scikit-learn.org. See: https://github.com/scikit-learn/scikit-learn/issues/21755 */display: inline-block !important;position: relative;}#sk-container-id-2 div.sk-text-repr-fallback {display: none;}</style><div id=\"sk-container-id-2\" class=\"sk-top-container\"><div class=\"sk-text-repr-fallback\"><pre>LinearRegression()</pre><b>In a Jupyter environment, please rerun this cell to show the HTML representation or trust the notebook. <br />On GitHub, the HTML representation is unable to render, please try loading this page with nbviewer.org.</b></div><div class=\"sk-container\" hidden><div class=\"sk-item\"><div class=\"sk-estimator sk-toggleable\"><input class=\"sk-toggleable__control sk-hidden--visually\" id=\"sk-estimator-id-2\" type=\"checkbox\" checked><label for=\"sk-estimator-id-2\" class=\"sk-toggleable__label sk-toggleable__label-arrow\">LinearRegression</label><div class=\"sk-toggleable__content\"><pre>LinearRegression()</pre></div></div></div></div></div>"
      ],
      "text/plain": [
       "LinearRegression()"
      ]
     },
     "execution_count": 44,
     "metadata": {},
     "output_type": "execute_result"
    }
   ],
   "source": [
    "lr = LinearRegression()\n",
    "lr.fit(X_train, y_train)"
   ]
  },
  {
   "cell_type": "markdown",
   "metadata": {},
   "source": [
    "### Doğrusal Regresyon Modelinin Eğitim Veri Seti Üzerindeki Performansının Değerlendirilmesi"
   ]
  },
  {
   "cell_type": "code",
   "execution_count": 45,
   "metadata": {
    "colab": {
     "base_uri": "https://localhost:8080/"
    },
    "id": "SbrotBOYurou",
    "outputId": "03eda490-4a84-4d01-8cbc-36410bcfe54a"
   },
   "outputs": [
    {
     "data": {
      "text/plain": [
       "0.2047062764111448"
      ]
     },
     "execution_count": 45,
     "metadata": {},
     "output_type": "execute_result"
    }
   ],
   "source": [
    "lr.score(X_train, y_train)"
   ]
  },
  {
   "cell_type": "markdown",
   "metadata": {},
   "source": [
    "### Doğrusal Regresyon Modelinin Test Veri Seti Üzerindeki Performansının Değerlendirilmesi"
   ]
  },
  {
   "cell_type": "code",
   "execution_count": 46,
   "metadata": {
    "colab": {
     "base_uri": "https://localhost:8080/"
    },
    "id": "vHlU0nCtz8r9",
    "outputId": "3f0d018c-38f8-4bbf-a312-5ea5f1bf0683",
    "scrolled": true
   },
   "outputs": [
    {
     "data": {
      "text/plain": [
       "0.2202074732591528"
      ]
     },
     "execution_count": 46,
     "metadata": {},
     "output_type": "execute_result"
    }
   ],
   "source": [
    "lr.score(X_test, y_test)"
   ]
  },
  {
   "cell_type": "markdown",
   "metadata": {},
   "source": [
    "### Doğrusal Regresyon Modeli ile Test Veri Setinde Tahmin Yapma"
   ]
  },
  {
   "cell_type": "code",
   "execution_count": 47,
   "metadata": {
    "id": "A-cepLb_Fz3Z"
   },
   "outputs": [],
   "source": [
    "y_pred_lr = lr.predict(X_test)"
   ]
  },
  {
   "cell_type": "markdown",
   "metadata": {},
   "source": [
    "### Gerçek ve Tahmin Edilen Değerleri İçeren Pandas DataFrame Oluşturma\n",
    "\n"
   ]
  },
  {
   "cell_type": "code",
   "execution_count": 48,
   "metadata": {
    "id": "t6RhAJJdF72g"
   },
   "outputs": [],
   "source": [
    "frame_lr = pd.DataFrame({\"actual\":y_test, \"predict\":y_pred_lr})"
   ]
  },
  {
   "cell_type": "markdown",
   "metadata": {},
   "source": [
    "### Regresyon Modelinin Performansını Değerlendirme"
   ]
  },
  {
   "cell_type": "code",
   "execution_count": 49,
   "metadata": {
    "colab": {
     "base_uri": "https://localhost:8080/"
    },
    "id": "PZeehNW8HmFK",
    "outputId": "711026bc-71e7-4d91-8e39-03fa50bff1a0"
   },
   "outputs": [
    {
     "name": "stdout",
     "output_type": "stream",
     "text": [
      "Mean Absolute Error: 0.4621989787388876\n",
      "Mean Squared Error: 0.3576431438507616\n",
      "Root Mean Squared Error: 0.5980327280766176\n"
     ]
    }
   ],
   "source": [
    "print('Mean Absolute Error:', mean_absolute_error(y_test, y_pred_lr))  \n",
    "print('Mean Squared Error:', mean_squared_error(y_test, y_pred_lr))  \n",
    "print('Root Mean Squared Error:', np.sqrt(mean_squared_error(y_test, y_pred_lr)))"
   ]
  },
  {
   "cell_type": "markdown",
   "metadata": {},
   "source": [
    "### Tahmin ve Gerçek Değerlerin Karşılaştırılması İçin Çubuk Grafik Oluşturma"
   ]
  },
  {
   "cell_type": "code",
   "execution_count": 50,
   "metadata": {
    "colab": {
     "base_uri": "https://localhost:8080/",
     "height": 461
    },
    "id": "VJQvdD_FLAwR",
    "outputId": "b7b99386-a91d-4651-da05-581eac931fb9"
   },
   "outputs": [
    {
     "data": {
      "image/png": "[encoded data removed]",
      "text/plain": [
       "<Figure size 1500x700 with 1 Axes>"
      ]
     },
     "metadata": {},
     "output_type": "display_data"
    }
   ],
   "source": [
    "import matplotlib.pyplot as plt\n",
    "df_temp = frame_lr.head(50)\n",
    "df_temp.plot(kind='bar',figsize=(15,7))\n",
    "plt.grid(which='major', linestyle='-', linewidth='0.5', color='green')\n",
    "plt.grid(which='minor', linestyle=':', linewidth='0.5', color='black')\n",
    "plt.show()"
   ]
  },
  {
   "cell_type": "markdown",
   "metadata": {},
   "source": [
    "### Tahmin"
   ]
  },
  {
   "cell_type": "code",
   "execution_count": 51,
   "metadata": {},
   "outputs": [],
   "source": [
    "location = [\"kadikoy\"]\n",
    "room_count = [\"5 + 1\"]\n",
    "floor_type = [\"3. Kat\"]\n",
    "m2 = [145]\n",
    "age = [5]\n",
    "tahmin_yap = pd.DataFrame({\"location\": le_loc.transform(location)[0],\n",
    "                           \"room count\": le_rc.transform(room_count)[0],\n",
    "                           \"m2\": m2,\n",
    "                           \"age\": age,\n",
    "                           \"floor type\": le_ft.transform(floor_type)[0]})"
   ]
  },
  {
   "cell_type": "code",
   "execution_count": 52,
   "metadata": {},
   "outputs": [
    {
     "data": {
      "text/plain": [
       "4120712.769209154"
      ]
     },
     "execution_count": 52,
     "metadata": {},
     "output_type": "execute_result"
    }
   ],
   "source": [
    "np.exp(lr.predict(tahmin_yap)[0])"
   ]
  },
  {
   "cell_type": "code",
   "execution_count": 67,
   "metadata": {
    "scrolled": true
   },
   "outputs": [
    {
     "data": {
      "application/vnd.jupyter.widget-view+json": {
       "model_id": "f1a82b376bfd44a19064a9178593d342",
       "version_major": 2,
       "version_minor": 0
      },
      "text/plain": [
       "Dropdown(description='Location:', options=('adalar', 'arnavutkoy', 'atasehir', 'avcilar', 'bagcilar', 'bahceli…"
      ]
     },
     "metadata": {},
     "output_type": "display_data"
    },
    {
     "data": {
      "application/vnd.jupyter.widget-view+json": {
       "model_id": "f956a2c0a8274439a490a39b331f5793",
       "version_major": 2,
       "version_minor": 0
      },
      "text/plain": [
       "Dropdown(description='Room Count:', options=('3 + 1', '5 + 1', '4 + 1', '3 + 2', '1 + 1', '2 + 1', '4 + 2', '2…"
      ]
     },
     "metadata": {},
     "output_type": "display_data"
    },
    {
     "data": {
      "application/vnd.jupyter.widget-view+json": {
       "model_id": "bf31b865c618494185e14e629196bc1d",
       "version_major": 2,
       "version_minor": 0
      },
      "text/plain": [
       "IntSlider(value=0, description='Square Meters:', max=300)"
      ]
     },
     "metadata": {},
     "output_type": "display_data"
    },
    {
     "data": {
      "application/vnd.jupyter.widget-view+json": {
       "model_id": "b771e47669d54029acbb5cef61eabf8f",
       "version_major": 2,
       "version_minor": 0
      },
      "text/plain": [
       "IntSlider(value=0, description='Age:')"
      ]
     },
     "metadata": {},
     "output_type": "display_data"
    },
    {
     "data": {
      "application/vnd.jupyter.widget-view+json": {
       "model_id": "cd45f059b32a483f8d4e1ed9c06c9fef",
       "version_major": 2,
       "version_minor": 0
      },
      "text/plain": [
       "Dropdown(description='Floor Type:', options=('2. Kat', 'Bahçe Katı', 'En Üst Kat', 'Ara Kat', '3. Kat', '1. Ka…"
      ]
     },
     "metadata": {},
     "output_type": "display_data"
    },
    {
     "data": {
      "application/vnd.jupyter.widget-view+json": {
       "model_id": "62c8452976e2462fb2620065b92e45dc",
       "version_major": 2,
       "version_minor": 0
      },
      "text/plain": [
       "Button(description='Tahmini Fiyat', style=ButtonStyle())"
      ]
     },
     "metadata": {},
     "output_type": "display_data"
    }
   ],
   "source": [
    "import ipywidgets as widgets\n",
    "from IPython.display import display\n",
    "location_widget = widgets.Dropdown(options=data2[\"location\"].unique(), description=\"Location:\")\n",
    "display(location_widget)\n",
    "room_count_widget = widgets.Dropdown(options=data2[\"room count\"].unique(), description=\"Room Count:\")\n",
    "display(room_count_widget)\n",
    "m2_widget = widgets.IntSlider(min=0, max=300, step=1, description=\"Square Meters:\")\n",
    "display(m2_widget)\n",
    "age_widget = widgets.IntSlider(min=0, max=100, step=1, description=\"Age:\")\n",
    "display(age_widget)\n",
    "floor_type_widget = widgets.Dropdown(options=data2[\"floor type\"].unique(), description=\"Floor Type:\")\n",
    "display(floor_type_widget)\n",
    "\n",
    "def predict_price(b):\n",
    "    \n",
    "    tahmin_yap = pd.DataFrame({\"location\": le_loc.transform([location_widget.value])[0],\n",
    "                           \"room count\": le_rc.transform([room_count_widget.value])[0],\n",
    "                           \"m2\": [int(m2_widget.value)],\n",
    "                           \"age\": [int(age_widget.value)],\n",
    "                           \"floor type\": le_ft.transform([floor_type_widget.value])[0]})\n",
    "    print(\"Tahmin Edilen Fiyat: ₺\" + str(int(np.exp(lr.predict(tahmin_yap)[0]))))\n",
    "\n",
    "predict_button = widgets.Button(description=\"Tahmini Fiyat\")\n",
    "predict_button.on_click(predict_price)\n",
    "display(predict_button)\n"
   ]
  },
  {
   "cell_type": "markdown",
   "metadata": {
    "id": "7EhgoSz8uVPB"
   },
   "source": [
    "### RandomForestRegressor ile model kurma"
   ]
  },
  {
   "cell_type": "code",
   "execution_count": 50,
   "metadata": {
    "id": "4QT1v9a0uFCF"
   },
   "outputs": [],
   "source": [
    "from sklearn.ensemble import RandomForestRegressor"
   ]
  },
  {
   "cell_type": "markdown",
   "metadata": {},
   "source": [
    "### Rastgele Orman Regresyon Modelinin Oluşturulması ve Eğitilmesi"
   ]
  },
  {
   "cell_type": "code",
   "execution_count": 51,
   "metadata": {
    "colab": {
     "base_uri": "https://localhost:8080/",
     "height": 74
    },
    "id": "tqxXABQluAoy",
    "outputId": "8260a109-d57c-4206-9a76-cde8b2e707bf"
   },
   "outputs": [
    {
     "data": {
      "text/html": [
       "<style>#sk-container-id-2 {color: black;}#sk-container-id-2 pre{padding: 0;}#sk-container-id-2 div.sk-toggleable {background-color: white;}#sk-container-id-2 label.sk-toggleable__label {cursor: pointer;display: block;width: 100%;margin-bottom: 0;padding: 0.3em;box-sizing: border-box;text-align: center;}#sk-container-id-2 label.sk-toggleable__label-arrow:before {content: \"▸\";float: left;margin-right: 0.25em;color: #696969;}#sk-container-id-2 label.sk-toggleable__label-arrow:hover:before {color: black;}#sk-container-id-2 div.sk-estimator:hover label.sk-toggleable__label-arrow:before {color: black;}#sk-container-id-2 div.sk-toggleable__content {max-height: 0;max-width: 0;overflow: hidden;text-align: left;background-color: #f0f8ff;}#sk-container-id-2 div.sk-toggleable__content pre {margin: 0.2em;color: black;border-radius: 0.25em;background-color: #f0f8ff;}#sk-container-id-2 input.sk-toggleable__control:checked~div.sk-toggleable__content {max-height: 200px;max-width: 100%;overflow: auto;}#sk-container-id-2 input.sk-toggleable__control:checked~label.sk-toggleable__label-arrow:before {content: \"▾\";}#sk-container-id-2 div.sk-estimator input.sk-toggleable__control:checked~label.sk-toggleable__label {background-color: #d4ebff;}#sk-container-id-2 div.sk-label input.sk-toggleable__control:checked~label.sk-toggleable__label {background-color: #d4ebff;}#sk-container-id-2 input.sk-hidden--visually {border: 0;clip: rect(1px 1px 1px 1px);clip: rect(1px, 1px, 1px, 1px);height: 1px;margin: -1px;overflow: hidden;padding: 0;position: absolute;width: 1px;}#sk-container-id-2 div.sk-estimator {font-family: monospace;background-color: #f0f8ff;border: 1px dotted black;border-radius: 0.25em;box-sizing: border-box;margin-bottom: 0.5em;}#sk-container-id-2 div.sk-estimator:hover {background-color: #d4ebff;}#sk-container-id-2 div.sk-parallel-item::after {content: \"\";width: 100%;border-bottom: 1px solid gray;flex-grow: 1;}#sk-container-id-2 div.sk-label:hover label.sk-toggleable__label {background-color: #d4ebff;}#sk-container-id-2 div.sk-serial::before {content: \"\";position: absolute;border-left: 1px solid gray;box-sizing: border-box;top: 0;bottom: 0;left: 50%;z-index: 0;}#sk-container-id-2 div.sk-serial {display: flex;flex-direction: column;align-items: center;background-color: white;padding-right: 0.2em;padding-left: 0.2em;position: relative;}#sk-container-id-2 div.sk-item {position: relative;z-index: 1;}#sk-container-id-2 div.sk-parallel {display: flex;align-items: stretch;justify-content: center;background-color: white;position: relative;}#sk-container-id-2 div.sk-item::before, #sk-container-id-2 div.sk-parallel-item::before {content: \"\";position: absolute;border-left: 1px solid gray;box-sizing: border-box;top: 0;bottom: 0;left: 50%;z-index: -1;}#sk-container-id-2 div.sk-parallel-item {display: flex;flex-direction: column;z-index: 1;position: relative;background-color: white;}#sk-container-id-2 div.sk-parallel-item:first-child::after {align-self: flex-end;width: 50%;}#sk-container-id-2 div.sk-parallel-item:last-child::after {align-self: flex-start;width: 50%;}#sk-container-id-2 div.sk-parallel-item:only-child::after {width: 0;}#sk-container-id-2 div.sk-dashed-wrapped {border: 1px dashed gray;margin: 0 0.4em 0.5em 0.4em;box-sizing: border-box;padding-bottom: 0.4em;background-color: white;}#sk-container-id-2 div.sk-label label {font-family: monospace;font-weight: bold;display: inline-block;line-height: 1.2em;}#sk-container-id-2 div.sk-label-container {text-align: center;}#sk-container-id-2 div.sk-container {/* jupyter's `normalize.less` sets `[hidden] { display: none; }` but bootstrap.min.css set `[hidden] { display: none !important; }` so we also need the `!important` here to be able to override the default hidden behavior on the sphinx rendered scikit-learn.org. See: https://github.com/scikit-learn/scikit-learn/issues/21755 */display: inline-block !important;position: relative;}#sk-container-id-2 div.sk-text-repr-fallback {display: none;}</style><div id=\"sk-container-id-2\" class=\"sk-top-container\"><div class=\"sk-text-repr-fallback\"><pre>RandomForestRegressor()</pre><b>In a Jupyter environment, please rerun this cell to show the HTML representation or trust the notebook. <br />On GitHub, the HTML representation is unable to render, please try loading this page with nbviewer.org.</b></div><div class=\"sk-container\" hidden><div class=\"sk-item\"><div class=\"sk-estimator sk-toggleable\"><input class=\"sk-toggleable__control sk-hidden--visually\" id=\"sk-estimator-id-2\" type=\"checkbox\" checked><label for=\"sk-estimator-id-2\" class=\"sk-toggleable__label sk-toggleable__label-arrow\">RandomForestRegressor</label><div class=\"sk-toggleable__content\"><pre>RandomForestRegressor()</pre></div></div></div></div></div>"
      ],
      "text/plain": [
       "RandomForestRegressor()"
      ]
     },
     "execution_count": 51,
     "metadata": {},
     "output_type": "execute_result"
    }
   ],
   "source": [
    "rfr = RandomForestRegressor()\n",
    "rfr.fit(X_train, y_train)"
   ]
  },
  {
   "cell_type": "markdown",
   "metadata": {},
   "source": [
    "### Rastgele Orman Regresyon Modelinin Test Veri Seti Üzerindeki Performansının Değerlendirilmesi"
   ]
  },
  {
   "cell_type": "code",
   "execution_count": 52,
   "metadata": {
    "colab": {
     "base_uri": "https://localhost:8080/"
    },
    "id": "zRCaygyvuAit",
    "outputId": "ed28b996-4c89-4769-f685-716a0c28ae91",
    "scrolled": true
   },
   "outputs": [
    {
     "data": {
      "text/plain": [
       "0.6403637645559015"
      ]
     },
     "execution_count": 52,
     "metadata": {},
     "output_type": "execute_result"
    }
   ],
   "source": [
    "rfr.score(X_test, y_test)"
   ]
  },
  {
   "cell_type": "markdown",
   "metadata": {},
   "source": [
    "### Rastgele Orman Regresyon Modelinin Eğitim Veri Seti Üzerindeki Performansının Değerlendirilmesi"
   ]
  },
  {
   "cell_type": "code",
   "execution_count": 53,
   "metadata": {
    "colab": {
     "base_uri": "https://localhost:8080/"
    },
    "id": "BHHjmRj_uAc5",
    "outputId": "7b61190c-9df9-4378-e6fe-3caa59454435"
   },
   "outputs": [
    {
     "data": {
      "text/plain": [
       "0.9151832561167113"
      ]
     },
     "execution_count": 53,
     "metadata": {},
     "output_type": "execute_result"
    }
   ],
   "source": [
    "rfr.score(X_train, y_train)"
   ]
  },
  {
   "cell_type": "markdown",
   "metadata": {},
   "source": [
    "### Doğrusal Regresyon Modeli ile Test Veri Setinde Tahmin Yapma"
   ]
  },
  {
   "cell_type": "code",
   "execution_count": 54,
   "metadata": {
    "id": "rEDdNy028IwG"
   },
   "outputs": [],
   "source": [
    "y_pred_rfr = rfr.predict(X_test)"
   ]
  },
  {
   "cell_type": "markdown",
   "metadata": {},
   "source": [
    "### Gerçek ve Tahmin Edilen Değerleri İçeren Pandas DataFrame Oluşturma\n",
    "\n"
   ]
  },
  {
   "cell_type": "code",
   "execution_count": 55,
   "metadata": {
    "id": "deJEX_cl8IpX"
   },
   "outputs": [],
   "source": [
    "frame_rfr=pd.DataFrame({\"actual\":y_test, \"predict\":y_pred_rfr})"
   ]
  },
  {
   "cell_type": "markdown",
   "metadata": {},
   "source": [
    "### Regresyon Modelinin Performansını Değerlendirme"
   ]
  },
  {
   "cell_type": "code",
   "execution_count": 56,
   "metadata": {
    "colab": {
     "base_uri": "https://localhost:8080/"
    },
    "id": "Cz65zeY28Ig_",
    "outputId": "80b61766-df54-4618-c3ac-483c3d3febee"
   },
   "outputs": [
    {
     "name": "stdout",
     "output_type": "stream",
     "text": [
      "Mean Absolute Error: 0.24635557433900865\n",
      "Mean Squared Error: 0.1649431476657708\n",
      "Root Mean Squared Error: 0.4061319338167966\n"
     ]
    }
   ],
   "source": [
    "print('Mean Absolute Error:', mean_absolute_error(y_test, y_pred_rfr))  \n",
    "print('Mean Squared Error:', mean_squared_error(y_test, y_pred_rfr))  \n",
    "print('Root Mean Squared Error:', np.sqrt(mean_squared_error(y_test, y_pred_rfr)))"
   ]
  },
  {
   "cell_type": "markdown",
   "metadata": {},
   "source": [
    "### Rastgele Orman Modeli ile Özellik Önem Derecelendirmesi"
   ]
  },
  {
   "cell_type": "code",
   "execution_count": 57,
   "metadata": {
    "colab": {
     "base_uri": "https://localhost:8080/",
     "height": 206
    },
    "id": "atCvLhE2I1-a",
    "outputId": "7f7a02fd-e644-4f6f-fb61-074c97bc3d15"
   },
   "outputs": [
    {
     "data": {
      "text/html": [
       "<div>\n",
       "<style scoped>\n",
       "    .dataframe tbody tr th:only-of-type {\n",
       "        vertical-align: middle;\n",
       "    }\n",
       "\n",
       "    .dataframe tbody tr th {\n",
       "        vertical-align: top;\n",
       "    }\n",
       "\n",
       "    .dataframe thead th {\n",
       "        text-align: right;\n",
       "    }\n",
       "</style>\n",
       "<table border=\"1\" class=\"dataframe\">\n",
       "  <thead>\n",
       "    <tr style=\"text-align: right;\">\n",
       "      <th></th>\n",
       "      <th>importance</th>\n",
       "    </tr>\n",
       "  </thead>\n",
       "  <tbody>\n",
       "    <tr>\n",
       "      <th>location</th>\n",
       "      <td>0.366444</td>\n",
       "    </tr>\n",
       "    <tr>\n",
       "      <th>room count</th>\n",
       "      <td>0.044167</td>\n",
       "    </tr>\n",
       "    <tr>\n",
       "      <th>m2</th>\n",
       "      <td>0.295632</td>\n",
       "    </tr>\n",
       "    <tr>\n",
       "      <th>age</th>\n",
       "      <td>0.159276</td>\n",
       "    </tr>\n",
       "    <tr>\n",
       "      <th>floor type</th>\n",
       "      <td>0.134481</td>\n",
       "    </tr>\n",
       "  </tbody>\n",
       "</table>\n",
       "</div>"
      ],
      "text/plain": [
       "            importance\n",
       "location      0.366444\n",
       "room count    0.044167\n",
       "m2            0.295632\n",
       "age           0.159276\n",
       "floor type    0.134481"
      ]
     },
     "execution_count": 57,
     "metadata": {},
     "output_type": "execute_result"
    }
   ],
   "source": [
    "importance=pd.DataFrame({\"importance\":rfr.feature_importances_},index= X_train.columns)\n",
    "importance"
   ]
  },
  {
   "cell_type": "markdown",
   "metadata": {},
   "source": [
    "### Özellik Önem Derecelendirmesi Üzerinde Pasta Grafiği Oluşturma"
   ]
  },
  {
   "cell_type": "code",
   "execution_count": 58,
   "metadata": {
    "colab": {
     "base_uri": "https://localhost:8080/",
     "height": 282
    },
    "id": "uPDbHKysI16B",
    "outputId": "f7dbda72-34ef-4670-cb5a-c5a9d95788e6"
   },
   "outputs": [
    {
     "data": {
      "text/plain": [
       "<matplotlib.legend.Legend at 0x2fd07af7700>"
      ]
     },
     "execution_count": 58,
     "metadata": {},
     "output_type": "execute_result"
    },
    {
     "data": {
      "image/png": "[encoded data removed]",
      "text/plain": [
       "<Figure size 640x480 with 1 Axes>"
      ]
     },
     "metadata": {},
     "output_type": "display_data"
    }
   ],
   "source": [
    "import matplotlib.pyplot as plt\n",
    "plt.pie(importance[\"importance\"], labels=X_train.columns,autopct='%1.1f%%',shadow=True, startangle=90)\n",
    "plt.title(\"Degiskenlerin Onem Dereceleri\")\n",
    "plt.legend(X_train.columns , loc=5)"
   ]
  },
  {
   "cell_type": "markdown",
   "metadata": {},
   "source": [
    "### Tahmin ve Gerçek Değerlerin Karşılaştırılması İçin Çubuk Grafik Oluşturma"
   ]
  },
  {
   "cell_type": "code",
   "execution_count": 59,
   "metadata": {
    "colab": {
     "base_uri": "https://localhost:8080/",
     "height": 461
    },
    "id": "RH8tIEw4JHBi",
    "outputId": "3c81426a-39fa-4e71-ed4a-dfea8de4fca0"
   },
   "outputs": [
    {
     "data": {
      "image/png": "[encoded data removed]",
      "text/plain": [
       "<Figure size 1500x700 with 1 Axes>"
      ]
     },
     "metadata": {},
     "output_type": "display_data"
    }
   ],
   "source": [
    "df_temp = frame_rfr.head(50)\n",
    "df_temp.plot(kind='bar',figsize=(15,7))\n",
    "plt.grid(which='major', linestyle='-', linewidth='0.5', color='green')\n",
    "plt.grid(which='minor', linestyle=':', linewidth='0.5', color='black')\n",
    "plt.show()\n",
    "\n"
   ]
  },
  {
   "cell_type": "markdown",
   "metadata": {},
   "source": [
    "## tahmin etme"
   ]
  },
  {
   "cell_type": "code",
   "execution_count": 68,
   "metadata": {},
   "outputs": [],
   "source": [
    "location = [\"kadikoy\"]\n",
    "room_count = [\"4 + 1\"]\n",
    "floor_type = [\"2. Kat\"]\n",
    "m2 = [145]\n",
    "age = [5]\n",
    "tahmin_yap = pd.DataFrame({\"location\": le_loc.transform(location)[0],\n",
    "                           \"room count\": le_rc.transform(room_count)[0],\n",
    "                           \"m2\": m2,\n",
    "                           \"age\": age,\n",
    "                           \"floor type\": le_ft.transform(floor_type)[0]})\n"
   ]
  },
  {
   "cell_type": "code",
   "execution_count": 69,
   "metadata": {},
   "outputs": [
    {
     "data": {
      "text/plain": [
       "9816271.362278655"
      ]
     },
     "execution_count": 69,
     "metadata": {},
     "output_type": "execute_result"
    }
   ],
   "source": [
    "np.exp(rfr.predict(tahmin_yap)[0])"
   ]
  },
  {
   "cell_type": "code",
   "execution_count": 33,
   "metadata": {},
   "outputs": [
    {
     "data": {
      "application/vnd.jupyter.widget-view+json": {
       "model_id": "",
       "version_major": 2,
       "version_minor": 0
      },
      "text/plain": [
       "Dropdown(description='Location:', options=('adalar', 'arnavutkoy', 'atasehir', 'avcilar', 'bagcilar', 'bahceli…"
      ]
     },
     "metadata": {},
     "output_type": "display_data"
    },
    {
     "data": {
      "application/vnd.jupyter.widget-view+json": {
       "model_id": "",
       "version_major": 2,
       "version_minor": 0
      },
      "text/plain": [
       "Dropdown(description='Room Count:', options=('3 + 1', '5 + 1', '4 + 1', '3 + 2', '1 + 1', '2 + 1', '4 + 2', '2…"
      ]
     },
     "metadata": {},
     "output_type": "display_data"
    },
    {
     "data": {
      "application/vnd.jupyter.widget-view+json": {
       "model_id": "",
       "version_major": 2,
       "version_minor": 0
      },
      "text/plain": [
       "IntSlider(value=0, description='Square Meters:', max=300)"
      ]
     },
     "metadata": {},
     "output_type": "display_data"
    },
    {
     "data": {
      "application/vnd.jupyter.widget-view+json": {
       "model_id": "",
       "version_major": 2,
       "version_minor": 0
      },
      "text/plain": [
       "IntSlider(value=0, description='Age:')"
      ]
     },
     "metadata": {},
     "output_type": "display_data"
    },
    {
     "data": {
      "application/vnd.jupyter.widget-view+json": {
       "model_id": "",
       "version_major": 2,
       "version_minor": 0
      },
      "text/plain": [
       "Dropdown(description='Floor Type:', options=('2. Kat', 'Bahçe Katı', 'En Üst Kat', 'Ara Kat', '3. Kat', '1. Ka…"
      ]
     },
     "metadata": {},
     "output_type": "display_data"
    },
    {
     "data": {
      "application/vnd.jupyter.widget-view+json": {
       "model_id": "",
       "version_major": 2,
       "version_minor": 0
      },
      "text/plain": [
       "Button(description='Tahmini Fiyat', style=ButtonStyle())"
      ]
     },
     "metadata": {},
     "output_type": "display_data"
    },
    {
     "name": "stdout",
     "output_type": "stream",
     "text": [
      "Tahmin Edilen Fiyat: ₺10071933\n"
     ]
    }
   ],
   "source": [
    "import ipywidgets as widgets\n",
    "from IPython.display import display\n",
    "\n",
    "\n",
    "location_widget = widgets.Dropdown(options=data2[\"location\"].unique(), description=\"Location:\")\n",
    "display(location_widget)\n",
    "\n",
    "room_count_widget = widgets.Dropdown(options=data2[\"room count\"].unique(), description=\"Room Count:\")\n",
    "display(room_count_widget)\n",
    "m2_widget = widgets.IntSlider(min=0, max=300, step=1, description=\"Square Meters:\")\n",
    "display(m2_widget)\n",
    "age_widget = widgets.IntSlider(min=0, max=100, step=1, description=\"Age:\")\n",
    "display(age_widget)\n",
    "floor_type_widget = widgets.Dropdown(options=data2[\"floor type\"].unique(), description=\"Floor Type:\")\n",
    "display(floor_type_widget)\n",
    "\n",
    "\n",
    "def predict_price(b):\n",
    "    \n",
    "    tahmin_yap = pd.DataFrame({\"location\": le_loc.transform([location_widget.value])[0],\n",
    "                           \"room count\": le_rc.transform([room_count_widget.value])[0],\n",
    "                           \"m2\": [int(m2_widget.value)],\n",
    "                           \"age\": [int(age_widget.value)],\n",
    "                           \"floor type\": le_ft.transform([floor_type_widget.value])[0]})\n",
    "\n",
    "    print(\"Tahmin Edilen Fiyat: ₺\" + str(int(np.exp(rfr.predict(tahmin_yap)[0]))))\n",
    "\n",
    "# Button for prediction\n",
    "predict_button = widgets.Button(description=\"Tahmini Fiyat\")\n",
    "predict_button.on_click(predict_price)\n",
    "display(predict_button)\n"
   ]
  },
  {
   "cell_type": "markdown",
   "metadata": {
    "id": "icMyA6WTwCY5"
   },
   "source": [
    "### XGBoost ile model kurma"
   ]
  },
  {
   "cell_type": "code",
   "execution_count": 18,
   "metadata": {
    "id": "ydi5BpTnwA1x"
   },
   "outputs": [],
   "source": [
    "import xgboost as xgb\n",
    "from xgboost import XGBRegressor\n"
   ]
  },
  {
   "cell_type": "markdown",
   "metadata": {},
   "source": [
    "### XGBoost Regresyon Modelinin Oluşturulması ve Eğitilmesi"
   ]
  },
  {
   "cell_type": "code",
   "execution_count": 19,
   "metadata": {
    "colab": {
     "base_uri": "https://localhost:8080/",
     "height": 248
    },
    "id": "20pG92I1urft",
    "outputId": "24fe960e-145b-4130-9fa3-e0392618e7a4"
   },
   "outputs": [
    {
     "data": {
      "text/html": [
       "<style>#sk-container-id-1 {color: black;}#sk-container-id-1 pre{padding: 0;}#sk-container-id-1 div.sk-toggleable {background-color: white;}#sk-container-id-1 label.sk-toggleable__label {cursor: pointer;display: block;width: 100%;margin-bottom: 0;padding: 0.3em;box-sizing: border-box;text-align: center;}#sk-container-id-1 label.sk-toggleable__label-arrow:before {content: \"▸\";float: left;margin-right: 0.25em;color: #696969;}#sk-container-id-1 label.sk-toggleable__label-arrow:hover:before {color: black;}#sk-container-id-1 div.sk-estimator:hover label.sk-toggleable__label-arrow:before {color: black;}#sk-container-id-1 div.sk-toggleable__content {max-height: 0;max-width: 0;overflow: hidden;text-align: left;background-color: #f0f8ff;}#sk-container-id-1 div.sk-toggleable__content pre {margin: 0.2em;color: black;border-radius: 0.25em;background-color: #f0f8ff;}#sk-container-id-1 input.sk-toggleable__control:checked~div.sk-toggleable__content {max-height: 200px;max-width: 100%;overflow: auto;}#sk-container-id-1 input.sk-toggleable__control:checked~label.sk-toggleable__label-arrow:before {content: \"▾\";}#sk-container-id-1 div.sk-estimator input.sk-toggleable__control:checked~label.sk-toggleable__label {background-color: #d4ebff;}#sk-container-id-1 div.sk-label input.sk-toggleable__control:checked~label.sk-toggleable__label {background-color: #d4ebff;}#sk-container-id-1 input.sk-hidden--visually {border: 0;clip: rect(1px 1px 1px 1px);clip: rect(1px, 1px, 1px, 1px);height: 1px;margin: -1px;overflow: hidden;padding: 0;position: absolute;width: 1px;}#sk-container-id-1 div.sk-estimator {font-family: monospace;background-color: #f0f8ff;border: 1px dotted black;border-radius: 0.25em;box-sizing: border-box;margin-bottom: 0.5em;}#sk-container-id-1 div.sk-estimator:hover {background-color: #d4ebff;}#sk-container-id-1 div.sk-parallel-item::after {content: \"\";width: 100%;border-bottom: 1px solid gray;flex-grow: 1;}#sk-container-id-1 div.sk-label:hover label.sk-toggleable__label {background-color: #d4ebff;}#sk-container-id-1 div.sk-serial::before {content: \"\";position: absolute;border-left: 1px solid gray;box-sizing: border-box;top: 0;bottom: 0;left: 50%;z-index: 0;}#sk-container-id-1 div.sk-serial {display: flex;flex-direction: column;align-items: center;background-color: white;padding-right: 0.2em;padding-left: 0.2em;position: relative;}#sk-container-id-1 div.sk-item {position: relative;z-index: 1;}#sk-container-id-1 div.sk-parallel {display: flex;align-items: stretch;justify-content: center;background-color: white;position: relative;}#sk-container-id-1 div.sk-item::before, #sk-container-id-1 div.sk-parallel-item::before {content: \"\";position: absolute;border-left: 1px solid gray;box-sizing: border-box;top: 0;bottom: 0;left: 50%;z-index: -1;}#sk-container-id-1 div.sk-parallel-item {display: flex;flex-direction: column;z-index: 1;position: relative;background-color: white;}#sk-container-id-1 div.sk-parallel-item:first-child::after {align-self: flex-end;width: 50%;}#sk-container-id-1 div.sk-parallel-item:last-child::after {align-self: flex-start;width: 50%;}#sk-container-id-1 div.sk-parallel-item:only-child::after {width: 0;}#sk-container-id-1 div.sk-dashed-wrapped {border: 1px dashed gray;margin: 0 0.4em 0.5em 0.4em;box-sizing: border-box;padding-bottom: 0.4em;background-color: white;}#sk-container-id-1 div.sk-label label {font-family: monospace;font-weight: bold;display: inline-block;line-height: 1.2em;}#sk-container-id-1 div.sk-label-container {text-align: center;}#sk-container-id-1 div.sk-container {/* jupyter's `normalize.less` sets `[hidden] { display: none; }` but bootstrap.min.css set `[hidden] { display: none !important; }` so we also need the `!important` here to be able to override the default hidden behavior on the sphinx rendered scikit-learn.org. See: https://github.com/scikit-learn/scikit-learn/issues/21755 */display: inline-block !important;position: relative;}#sk-container-id-1 div.sk-text-repr-fallback {display: none;}</style><div id=\"sk-container-id-1\" class=\"sk-top-container\"><div class=\"sk-text-repr-fallback\"><pre>XGBRegressor(base_score=None, booster=None, callbacks=None,\n",
       "             colsample_bylevel=None, colsample_bynode=None,\n",
       "             colsample_bytree=None, early_stopping_rounds=None,\n",
       "             enable_categorical=False, eval_metric=None, feature_types=None,\n",
       "             gamma=None, gpu_id=None, grow_policy=None, importance_type=None,\n",
       "             interaction_constraints=None, learning_rate=None, max_bin=None,\n",
       "             max_cat_threshold=None, max_cat_to_onehot=None,\n",
       "             max_delta_step=None, max_depth=None, max_leaves=None,\n",
       "             min_child_weight=None, missing=nan, monotone_constraints=None,\n",
       "             n_estimators=100, n_jobs=None, num_parallel_tree=None,\n",
       "             predictor=None, random_state=None, ...)</pre><b>In a Jupyter environment, please rerun this cell to show the HTML representation or trust the notebook. <br />On GitHub, the HTML representation is unable to render, please try loading this page with nbviewer.org.</b></div><div class=\"sk-container\" hidden><div class=\"sk-item\"><div class=\"sk-estimator sk-toggleable\"><input class=\"sk-toggleable__control sk-hidden--visually\" id=\"sk-estimator-id-1\" type=\"checkbox\" checked><label for=\"sk-estimator-id-1\" class=\"sk-toggleable__label sk-toggleable__label-arrow\">XGBRegressor</label><div class=\"sk-toggleable__content\"><pre>XGBRegressor(base_score=None, booster=None, callbacks=None,\n",
       "             colsample_bylevel=None, colsample_bynode=None,\n",
       "             colsample_bytree=None, early_stopping_rounds=None,\n",
       "             enable_categorical=False, eval_metric=None, feature_types=None,\n",
       "             gamma=None, gpu_id=None, grow_policy=None, importance_type=None,\n",
       "             interaction_constraints=None, learning_rate=None, max_bin=None,\n",
       "             max_cat_threshold=None, max_cat_to_onehot=None,\n",
       "             max_delta_step=None, max_depth=None, max_leaves=None,\n",
       "             min_child_weight=None, missing=nan, monotone_constraints=None,\n",
       "             n_estimators=100, n_jobs=None, num_parallel_tree=None,\n",
       "             predictor=None, random_state=None, ...)</pre></div></div></div></div></div>"
      ],
      "text/plain": [
       "XGBRegressor(base_score=None, booster=None, callbacks=None,\n",
       "             colsample_bylevel=None, colsample_bynode=None,\n",
       "             colsample_bytree=None, early_stopping_rounds=None,\n",
       "             enable_categorical=False, eval_metric=None, feature_types=None,\n",
       "             gamma=None, gpu_id=None, grow_policy=None, importance_type=None,\n",
       "             interaction_constraints=None, learning_rate=None, max_bin=None,\n",
       "             max_cat_threshold=None, max_cat_to_onehot=None,\n",
       "             max_delta_step=None, max_depth=None, max_leaves=None,\n",
       "             min_child_weight=None, missing=nan, monotone_constraints=None,\n",
       "             n_estimators=100, n_jobs=None, num_parallel_tree=None,\n",
       "             predictor=None, random_state=None, ...)"
      ]
     },
     "execution_count": 19,
     "metadata": {},
     "output_type": "execute_result"
    }
   ],
   "source": [
    "xgb = XGBRegressor()\n",
    "xgb.fit(X_train, y_train)"
   ]
  },
  {
   "cell_type": "markdown",
   "metadata": {},
   "source": [
    "### XGBoost Regresyon Modelinin Test Veri Seti Üzerindeki Performansının Değerlendirilmesi"
   ]
  },
  {
   "cell_type": "code",
   "execution_count": 20,
   "metadata": {
    "colab": {
     "base_uri": "https://localhost:8080/"
    },
    "id": "YZTHje3LwqXp",
    "outputId": "5e782dbe-592d-46d0-b0b0-245959e1ae9e"
   },
   "outputs": [
    {
     "data": {
      "text/plain": [
       "0.6819311368410165"
      ]
     },
     "execution_count": 20,
     "metadata": {},
     "output_type": "execute_result"
    }
   ],
   "source": [
    "xgb.score(X_test, y_test)"
   ]
  },
  {
   "cell_type": "markdown",
   "metadata": {},
   "source": [
    "### XGBoost Regresyon Modelinin Eğitim Veri Seti Üzerindeki Performansının Değerlendirilmesi"
   ]
  },
  {
   "cell_type": "code",
   "execution_count": 21,
   "metadata": {
    "colab": {
     "base_uri": "https://localhost:8080/"
    },
    "id": "Xa124fZjwqT9",
    "outputId": "31186fa0-79aa-4a34-d20f-68ecdaaa50cf"
   },
   "outputs": [
    {
     "data": {
      "text/plain": [
       "0.739885422226982"
      ]
     },
     "execution_count": 21,
     "metadata": {},
     "output_type": "execute_result"
    }
   ],
   "source": [
    "xgb.score(X_train, y_train)"
   ]
  },
  {
   "cell_type": "markdown",
   "metadata": {},
   "source": [
    "### XGBoost Regresyon Modeli ile Test Veri Setinde Tahmin Yapma"
   ]
  },
  {
   "cell_type": "code",
   "execution_count": 22,
   "metadata": {
    "id": "CinglER_GV-8"
   },
   "outputs": [],
   "source": [
    "y_pred_xgb = xgb.predict(X_test)"
   ]
  },
  {
   "cell_type": "markdown",
   "metadata": {},
   "source": [
    "### Gerçek ve Tahmin Edilen Değerleri İçeren Pandas DataFrame Oluşturma"
   ]
  },
  {
   "cell_type": "code",
   "execution_count": 23,
   "metadata": {
    "id": "VYSW4GrK1vVO"
   },
   "outputs": [],
   "source": [
    "frame_xgb=pd.DataFrame({\"actual\":y_test, \"predict\":y_pred_xgb})"
   ]
  },
  {
   "cell_type": "markdown",
   "metadata": {},
   "source": [
    "### XGBoost Modelinin Performansını Değerlendirme "
   ]
  },
  {
   "cell_type": "code",
   "execution_count": 24,
   "metadata": {
    "colab": {
     "base_uri": "https://localhost:8080/"
    },
    "id": "k5giPdGw1vRB",
    "outputId": "91367fe8-72bf-444e-961c-0fc7284a55ce",
    "scrolled": true
   },
   "outputs": [
    {
     "name": "stdout",
     "output_type": "stream",
     "text": [
      "Mean Absolute Error: 0.24588539773558604\n",
      "Mean Squared Error: 0.14587873604875087\n",
      "Root Mean Squared Error: 0.38194074939544076\n"
     ]
    }
   ],
   "source": [
    "print('Mean Absolute Error:', mean_absolute_error(y_test, y_pred_xgb))  \n",
    "print('Mean Squared Error:', mean_squared_error(y_test, y_pred_xgb))  \n",
    "print('Root Mean Squared Error:', np.sqrt(mean_squared_error(y_test, y_pred_xgb)))"
   ]
  },
  {
   "cell_type": "markdown",
   "metadata": {},
   "source": [
    "### XGBoost Regresyon Modeli ile Özellik Önem Derecelendirmesi"
   ]
  },
  {
   "cell_type": "code",
   "execution_count": 25,
   "metadata": {
    "colab": {
     "base_uri": "https://localhost:8080/",
     "height": 206
    },
    "id": "txaHHHVKIj55",
    "outputId": "90377c04-5eaa-4b38-8af6-5119a1d608f5"
   },
   "outputs": [
    {
     "data": {
      "text/html": [
       "<div>\n",
       "<style scoped>\n",
       "    .dataframe tbody tr th:only-of-type {\n",
       "        vertical-align: middle;\n",
       "    }\n",
       "\n",
       "    .dataframe tbody tr th {\n",
       "        vertical-align: top;\n",
       "    }\n",
       "\n",
       "    .dataframe thead th {\n",
       "        text-align: right;\n",
       "    }\n",
       "</style>\n",
       "<table border=\"1\" class=\"dataframe\">\n",
       "  <thead>\n",
       "    <tr style=\"text-align: right;\">\n",
       "      <th></th>\n",
       "      <th>importance</th>\n",
       "    </tr>\n",
       "  </thead>\n",
       "  <tbody>\n",
       "    <tr>\n",
       "      <th>location</th>\n",
       "      <td>0.340866</td>\n",
       "    </tr>\n",
       "    <tr>\n",
       "      <th>room count</th>\n",
       "      <td>0.168386</td>\n",
       "    </tr>\n",
       "    <tr>\n",
       "      <th>m2</th>\n",
       "      <td>0.287557</td>\n",
       "    </tr>\n",
       "    <tr>\n",
       "      <th>age</th>\n",
       "      <td>0.107920</td>\n",
       "    </tr>\n",
       "    <tr>\n",
       "      <th>floor type</th>\n",
       "      <td>0.095271</td>\n",
       "    </tr>\n",
       "  </tbody>\n",
       "</table>\n",
       "</div>"
      ],
      "text/plain": [
       "            importance\n",
       "location      0.340866\n",
       "room count    0.168386\n",
       "m2            0.287557\n",
       "age           0.107920\n",
       "floor type    0.095271"
      ]
     },
     "execution_count": 25,
     "metadata": {},
     "output_type": "execute_result"
    }
   ],
   "source": [
    "importance=pd.DataFrame({\"importance\":xgb.feature_importances_},index= X_train.columns)\n",
    "importance"
   ]
  },
  {
   "cell_type": "markdown",
   "metadata": {},
   "source": [
    "### Özellik Önem Derecelendirmesi Üzerinde Pasta Grafiği Oluşturma"
   ]
  },
  {
   "cell_type": "code",
   "execution_count": 26,
   "metadata": {
    "colab": {
     "base_uri": "https://localhost:8080/",
     "height": 282
    },
    "id": "Z50JEvonLlV4",
    "outputId": "f42ebb4d-a2cb-4fc8-f0ba-d88d1648d9d3"
   },
   "outputs": [
    {
     "data": {
      "text/plain": [
       "<matplotlib.legend.Legend at 0x26eff2a6920>"
      ]
     },
     "execution_count": 26,
     "metadata": {},
     "output_type": "execute_result"
    },
    {
     "data": {
      "image/png": "[encoded data removed]",
      "text/plain": [
       "<Figure size 640x480 with 1 Axes>"
      ]
     },
     "metadata": {},
     "output_type": "display_data"
    }
   ],
   "source": [
    "import matplotlib.pyplot as plt\n",
    "plt.pie(importance[\"importance\"], labels=X_train.columns,autopct='%1.1f%%',shadow=True, startangle=90)\n",
    "plt.title(\"Degiskenlerin Onem Dereceleri\")\n",
    "plt.legend(X_train.columns , loc=5)"
   ]
  },
  {
   "cell_type": "markdown",
   "metadata": {},
   "source": [
    "### Tahmin ve Gerçek Değerlerin Karşılaştırılması İçin Çubuk Grafik Oluşturma (XGBoost)"
   ]
  },
  {
   "cell_type": "code",
   "execution_count": 27,
   "metadata": {
    "colab": {
     "base_uri": "https://localhost:8080/",
     "height": 461
    },
    "id": "_idRatgQLlAr",
    "outputId": "bc598581-5aa6-4042-e219-c675e9b7e16e"
   },
   "outputs": [
    {
     "data": {
      "image/png": "[encoded data removed]",
      "text/plain": [
       "<Figure size 1500x700 with 1 Axes>"
      ]
     },
     "metadata": {},
     "output_type": "display_data"
    }
   ],
   "source": [
    "df_temp = frame_xgb.head(50)\n",
    "df_temp.plot(kind='bar',figsize=(15,7))\n",
    "plt.grid(which='major', linestyle='-', linewidth='0.5', color='green')\n",
    "plt.grid(which='minor', linestyle=':', linewidth='0.5', color='black')\n",
    "plt.show()"
   ]
  },
  {
   "cell_type": "markdown",
   "metadata": {},
   "source": [
    "### Tahmin Etme"
   ]
  },
  {
   "cell_type": "code",
   "execution_count": 28,
   "metadata": {},
   "outputs": [],
   "source": [
    "location = [\"kadikoy\"]\n",
    "room_count = [\"2 + 1\"]\n",
    "floor_type = [\"2. Kat\"]\n",
    "m2 = [145]\n",
    "age = [5]\n",
    "tahmin_yap = pd.DataFrame({\"location\": le_loc.transform(location)[0],\n",
    "                           \"room count\": le_rc.transform(room_count)[0],\n",
    "                           \"m2\": m2,\n",
    "                           \"age\": age,\n",
    "                           \"floor type\": le_ft.transform(floor_type)[0]})\n"
   ]
  },
  {
   "cell_type": "code",
   "execution_count": 29,
   "metadata": {},
   "outputs": [
    {
     "data": {
      "text/plain": [
       "10071933.0"
      ]
     },
     "execution_count": 29,
     "metadata": {},
     "output_type": "execute_result"
    }
   ],
   "source": [
    "np.exp(xgb.predict(tahmin_yap)[0])"
   ]
  },
  {
   "cell_type": "code",
   "execution_count": 66,
   "metadata": {},
   "outputs": [
    {
     "data": {
      "application/vnd.jupyter.widget-view+json": {
       "model_id": "cf49d25b5d544c40ac0a02c4d2c5541f",
       "version_major": 2,
       "version_minor": 0
      },
      "text/plain": [
       "Dropdown(description='Location:', options=('adalar', 'arnavutkoy', 'atasehir', 'avcilar', 'bagcilar', 'bahceli…"
      ]
     },
     "metadata": {},
     "output_type": "display_data"
    },
    {
     "data": {
      "application/vnd.jupyter.widget-view+json": {
       "model_id": "1efbea19d90f4710977905671143a995",
       "version_major": 2,
       "version_minor": 0
      },
      "text/plain": [
       "Dropdown(description='Room Count:', options=('3 + 1', '5 + 1', '4 + 1', '3 + 2', '1 + 1', '2 + 1', '4 + 2', '2…"
      ]
     },
     "metadata": {},
     "output_type": "display_data"
    },
    {
     "data": {
      "application/vnd.jupyter.widget-view+json": {
       "model_id": "2f0c2b9818254b169f6087f0f30960e8",
       "version_major": 2,
       "version_minor": 0
      },
      "text/plain": [
       "IntSlider(value=0, description='Square Meters:', max=300)"
      ]
     },
     "metadata": {},
     "output_type": "display_data"
    },
    {
     "data": {
      "application/vnd.jupyter.widget-view+json": {
       "model_id": "4adcbe393c534bc7b25931c091291986",
       "version_major": 2,
       "version_minor": 0
      },
      "text/plain": [
       "IntSlider(value=0, description='Age:')"
      ]
     },
     "metadata": {},
     "output_type": "display_data"
    },
    {
     "data": {
      "application/vnd.jupyter.widget-view+json": {
       "model_id": "36bab4b9ef50404fb6fcca7842cc0544",
       "version_major": 2,
       "version_minor": 0
      },
      "text/plain": [
       "Dropdown(description='Floor Type:', options=('2. Kat', 'Bahçe Katı', 'En Üst Kat', 'Ara Kat', '3. Kat', '1. Ka…"
      ]
     },
     "metadata": {},
     "output_type": "display_data"
    },
    {
     "data": {
      "application/vnd.jupyter.widget-view+json": {
       "model_id": "1a25e4f70f594e65a622884bd63bdf30",
       "version_major": 2,
       "version_minor": 0
      },
      "text/plain": [
       "Button(description='Tahmini Fiyat', style=ButtonStyle())"
      ]
     },
     "metadata": {},
     "output_type": "display_data"
    },
    {
     "name": "stdout",
     "output_type": "stream",
     "text": [
      "Tahmin Edilen Fiyat: ₺3564269\n"
     ]
    }
   ],
   "source": [
    "import ipywidgets as widgets\n",
    "from IPython.display import display\n",
    "\n",
    "\n",
    "location_widget = widgets.Dropdown(options=data2[\"location\"].unique(), description=\"Location:\")\n",
    "display(location_widget)\n",
    "\n",
    "room_count_widget = widgets.Dropdown(options=data2[\"room count\"].unique(), description=\"Room Count:\")\n",
    "display(room_count_widget)\n",
    "m2_widget = widgets.IntSlider(min=0, max=300, step=1, description=\"Square Meters:\")\n",
    "display(m2_widget)\n",
    "age_widget = widgets.IntSlider(min=0, max=100, step=1, description=\"Age:\")\n",
    "display(age_widget)\n",
    "floor_type_widget = widgets.Dropdown(options=data2[\"floor type\"].unique(), description=\"Floor Type:\")\n",
    "display(floor_type_widget)\n",
    "\n",
    "\n",
    "def predict_price(b):\n",
    "    \n",
    "    tahmin_yap = pd.DataFrame({\"location\": le_loc.transform([location_widget.value])[0],\n",
    "                           \"room count\": le_rc.transform([room_count_widget.value])[0],\n",
    "                           \"m2\": [int(m2_widget.value)],\n",
    "                           \"age\": [int(age_widget.value)],\n",
    "                           \"floor type\": le_ft.transform([floor_type_widget.value])[0]})\n",
    "\n",
    "    print(\"Tahmin Edilen Fiyat: ₺\" + str(int(np.exp(xgb.predict(tahmin_yap)[0]))))\n",
    "\n",
    "# Button for prediction\n",
    "predict_button = widgets.Button(description=\"Tahmini Fiyat\")\n",
    "predict_button.on_click(predict_price)\n",
    "display(predict_button)\n"
   ]
  },
  {
   "cell_type": "code",
   "execution_count": 69,
   "metadata": {},
   "outputs": [
    {
     "data": {
      "text/html": [
       "<div>\n",
       "<style scoped>\n",
       "    .dataframe tbody tr th:only-of-type {\n",
       "        vertical-align: middle;\n",
       "    }\n",
       "\n",
       "    .dataframe tbody tr th {\n",
       "        vertical-align: top;\n",
       "    }\n",
       "\n",
       "    .dataframe thead th {\n",
       "        text-align: right;\n",
       "    }\n",
       "</style>\n",
       "<table border=\"1\" class=\"dataframe\">\n",
       "  <thead>\n",
       "    <tr style=\"text-align: right;\">\n",
       "      <th></th>\n",
       "      <th>Unnamed: 0</th>\n",
       "      <th>info_</th>\n",
       "      <th>location</th>\n",
       "      <th>home prices</th>\n",
       "      <th>room count</th>\n",
       "      <th>m2</th>\n",
       "      <th>age</th>\n",
       "      <th>floor type</th>\n",
       "    </tr>\n",
       "  </thead>\n",
       "  <tbody>\n",
       "    <tr>\n",
       "      <th>0</th>\n",
       "      <td>0</td>\n",
       "      <td>Satılık Daire</td>\n",
       "      <td>adalar</td>\n",
       "      <td>6.200.000</td>\n",
       "      <td>3 + 1</td>\n",
       "      <td>130</td>\n",
       "      <td>26</td>\n",
       "      <td>2. Kat</td>\n",
       "    </tr>\n",
       "    <tr>\n",
       "      <th>1</th>\n",
       "      <td>1</td>\n",
       "      <td>Satılık Yazlık</td>\n",
       "      <td>adalar</td>\n",
       "      <td>8.750.000</td>\n",
       "      <td>4 + 1</td>\n",
       "      <td>320</td>\n",
       "      <td>16</td>\n",
       "      <td>Çatı Katı</td>\n",
       "    </tr>\n",
       "    <tr>\n",
       "      <th>2</th>\n",
       "      <td>2</td>\n",
       "      <td>Satılık Müstakil Ev</td>\n",
       "      <td>adalar</td>\n",
       "      <td>14.000.000</td>\n",
       "      <td>7 + 3</td>\n",
       "      <td>400</td>\n",
       "      <td>23</td>\n",
       "      <td>NaN</td>\n",
       "    </tr>\n",
       "    <tr>\n",
       "      <th>3</th>\n",
       "      <td>3</td>\n",
       "      <td>Satılık Daire</td>\n",
       "      <td>adalar</td>\n",
       "      <td>6.500.000</td>\n",
       "      <td>4 + 1</td>\n",
       "      <td>220</td>\n",
       "      <td>50</td>\n",
       "      <td>1. Kat</td>\n",
       "    </tr>\n",
       "    <tr>\n",
       "      <th>4</th>\n",
       "      <td>4</td>\n",
       "      <td>Satılık Daire</td>\n",
       "      <td>adalar</td>\n",
       "      <td>7.500.000</td>\n",
       "      <td>3 + 1</td>\n",
       "      <td>140</td>\n",
       "      <td>30</td>\n",
       "      <td>Bahçe Katı</td>\n",
       "    </tr>\n",
       "    <tr>\n",
       "      <th>...</th>\n",
       "      <td>...</td>\n",
       "      <td>...</td>\n",
       "      <td>...</td>\n",
       "      <td>...</td>\n",
       "      <td>...</td>\n",
       "      <td>...</td>\n",
       "      <td>...</td>\n",
       "      <td>...</td>\n",
       "    </tr>\n",
       "    <tr>\n",
       "      <th>79147</th>\n",
       "      <td>79147</td>\n",
       "      <td>Satılık Dükkan &amp; Mağaza</td>\n",
       "      <td>zeytinburnu</td>\n",
       "      <td>2.100.000</td>\n",
       "      <td>NaN</td>\n",
       "      <td>100</td>\n",
       "      <td>28</td>\n",
       "      <td>NaN</td>\n",
       "    </tr>\n",
       "    <tr>\n",
       "      <th>79148</th>\n",
       "      <td>79148</td>\n",
       "      <td>Satılık Apartman Dairesi</td>\n",
       "      <td>zeytinburnu</td>\n",
       "      <td>1.650.000</td>\n",
       "      <td>NaN</td>\n",
       "      <td>85</td>\n",
       "      <td>NaN</td>\n",
       "      <td>NaN</td>\n",
       "    </tr>\n",
       "    <tr>\n",
       "      <th>79149</th>\n",
       "      <td>79149</td>\n",
       "      <td>Kiralık Dükkan &amp; Mağaza</td>\n",
       "      <td>zeytinburnu</td>\n",
       "      <td>10.000</td>\n",
       "      <td>NaN</td>\n",
       "      <td>180</td>\n",
       "      <td>NaN</td>\n",
       "      <td>NaN</td>\n",
       "    </tr>\n",
       "    <tr>\n",
       "      <th>79150</th>\n",
       "      <td>79150</td>\n",
       "      <td>Kiralık Daire</td>\n",
       "      <td>zeytinburnu</td>\n",
       "      <td>50.000</td>\n",
       "      <td>2 + 1</td>\n",
       "      <td>142</td>\n",
       "      <td>1</td>\n",
       "      <td>8. Kat</td>\n",
       "    </tr>\n",
       "    <tr>\n",
       "      <th>79151</th>\n",
       "      <td>79151</td>\n",
       "      <td>Kiralık Daire</td>\n",
       "      <td>zeytinburnu</td>\n",
       "      <td>150.000</td>\n",
       "      <td>3 + 1</td>\n",
       "      <td>230</td>\n",
       "      <td>5</td>\n",
       "      <td>Ara Kat</td>\n",
       "    </tr>\n",
       "  </tbody>\n",
       "</table>\n",
       "<p>79152 rows × 8 columns</p>\n",
       "</div>"
      ],
      "text/plain": [
       "       Unnamed: 0                     info_     location home prices  \\\n",
       "0               0             Satılık Daire       adalar   6.200.000   \n",
       "1               1            Satılık Yazlık       adalar   8.750.000   \n",
       "2               2       Satılık Müstakil Ev       adalar  14.000.000   \n",
       "3               3             Satılık Daire       adalar   6.500.000   \n",
       "4               4             Satılık Daire       adalar   7.500.000   \n",
       "...           ...                       ...          ...         ...   \n",
       "79147       79147   Satılık Dükkan & Mağaza  zeytinburnu   2.100.000   \n",
       "79148       79148  Satılık Apartman Dairesi  zeytinburnu   1.650.000   \n",
       "79149       79149   Kiralık Dükkan & Mağaza  zeytinburnu      10.000   \n",
       "79150       79150             Kiralık Daire  zeytinburnu      50.000   \n",
       "79151       79151             Kiralık Daire  zeytinburnu     150.000   \n",
       "\n",
       "      room count   m2  age  floor type  \n",
       "0          3 + 1  130   26      2. Kat  \n",
       "1          4 + 1  320   16   Çatı Katı  \n",
       "2          7 + 3  400   23         NaN  \n",
       "3          4 + 1  220   50      1. Kat  \n",
       "4          3 + 1  140   30  Bahçe Katı  \n",
       "...          ...  ...  ...         ...  \n",
       "79147        NaN  100   28         NaN  \n",
       "79148        NaN   85  NaN         NaN  \n",
       "79149        NaN  180  NaN         NaN  \n",
       "79150      2 + 1  142    1      8. Kat  \n",
       "79151      3 + 1  230    5     Ara Kat  \n",
       "\n",
       "[79152 rows x 8 columns]"
      ]
     },
     "execution_count": 69,
     "metadata": {},
     "output_type": "execute_result"
    }
   ],
   "source": [
    "raw_data = pd.read_csv(\"istanbul_ev_ilanlari.csv\")\n",
    "raw_data"
   ]
  },
  {
   "cell_type": "code",
   "execution_count": null,
   "metadata": {},
   "outputs": [],
   "source": []
  }
 ],
 "metadata": {
  "accelerator": "GPU",
  "colab": {
   "provenance": []
  },
  "gpuClass": "standard",
  "kernelspec": {
   "display_name": "Python 3 (ipykernel)",
   "language": "python",
   "name": "python3"
  },
  "language_info": {
   "codemirror_mode": {
    "name": "ipython",
    "version": 3
   },
   "file_extension": ".py",
   "mimetype": "text/x-python",
   "name": "python",
   "nbconvert_exporter": "python",
   "pygments_lexer": "ipython3",
   "version": "3.10.9"
  }
 },
 "nbformat": 4,
 "nbformat_minor": 4
}
