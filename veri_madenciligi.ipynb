{
 "cells": [
  {
   "cell_type": "code",
   "execution_count": 31,
   "id": "6823685d-77af-411c-aaab-95ccbc671415",
   "metadata": {},
   "outputs": [],
   "source": [
    "# selenium kullanilarak web sayfasi uzerinden veriler cekilecek\n",
    "from selenium import webdriver\n",
    "from bs4 import BeautifulSoup\n",
    "import os\n",
    "import pandas as pd\n",
    "import time\n",
    "from selenium.webdriver.chrome.options import Options\n",
    "from selenium.webdriver.common.by import By\n",
    "options = Options()"
   ]
  },
  {
   "cell_type": "code",
   "execution_count": 32,
   "id": "7d7b7144-db8f-4417-8a2c-0c815c7db25b",
   "metadata": {
    "jupyter": {
     "source_hidden": true
    },
    "tags": []
   },
   "outputs": [],
   "source": [
    "DATA_DIR = \"data\"\n",
    "STANDINGS_DIR = os.path.join(DATA_DIR, \"standings\")\n",
    "SCORES_DIR = os.path.join(DATA_DIR, \"scores\")"
   ]
  },
  {
   "cell_type": "code",
   "execution_count": 39,
   "id": "9c38d35d-9dd4-4737-849a-de44a3a53663",
   "metadata": {
    "tags": []
   },
   "outputs": [],
   "source": [
    "from selenium.webdriver.chrome.options import Options\n",
    "options = Options()\n",
    "options.binary_location = \"C:\\Program Files\\Google\\Chrome\\Application\\chrome.exe\"\n",
    "browser = webdriver.Chrome(options=options)"
   ]
  },
  {
   "cell_type": "markdown",
   "id": "49f62329-a867-437e-b92f-1e7fed784ff8",
   "metadata": {},
   "source": [
    "# Istanbul ilce linklerini elde etme"
   ]
  },
  {
   "cell_type": "code",
   "execution_count": 34,
   "id": "842be07d-8810-4770-ac85-274b102d21c8",
   "metadata": {
    "tags": []
   },
   "outputs": [],
   "source": [
    "url = \"https://www.hepsiemlak.com/istanbul\"\n",
    "browser.get(url)\n",
    "\n",
    "ilce_link = browser.find_elements(By.XPATH, \"//*[@id='listPage']/div[3]/section/div/div/div/div[1]/div\")"
   ]
  },
  {
   "cell_type": "code",
   "execution_count": 36,
   "id": "f88d1841-ec3a-4c27-9ec2-7f945ade0149",
   "metadata": {},
   "outputs": [
    {
     "data": {
      "text/plain": [
       "[<selenium.webdriver.remote.webelement.WebElement (session=\"19ca2dba53312f154f4c8b6d274419e3\", element=\"090a824c-9b52-4b11-8def-f374e835962f\")>]"
      ]
     },
     "execution_count": 36,
     "metadata": {},
     "output_type": "execute_result"
    }
   ],
   "source": [
    "ilce_link"
   ]
  },
  {
   "cell_type": "code",
   "execution_count": null,
   "id": "7ecc163b-eb7f-4ace-a2b9-5b9e5cbb1ca9",
   "metadata": {
    "tags": []
   },
   "outputs": [],
   "source": [
    "str1=\"\"\n",
    "for ele in ilce_link:\n",
    "    str1 += ele.get_attribute(\"innerHTML\")\n",
    "soup = BeautifulSoup(str1)"
   ]
  },
  {
   "cell_type": "code",
   "execution_count": null,
   "id": "3eac0988-f09f-484d-8968-257474999e71",
   "metadata": {},
   "outputs": [],
   "source": [
    "a_etiket=soup.find_all(\"a\", attrs={\"class\":\"he-footer-links__link\"})"
   ]
  },
  {
   "cell_type": "code",
   "execution_count": null,
   "id": "ff2f1944-492f-46eb-9e57-726806a637d0",
   "metadata": {},
   "outputs": [],
   "source": [
    "href = [l.get(\"href\") for l in a_etiket]"
   ]
  },
  {
   "cell_type": "code",
   "execution_count": 17,
   "id": "0523b1dc-a7e0-452d-ae71-448d92f3ab69",
   "metadata": {},
   "outputs": [
    {
     "data": {
      "text/plain": [
       "['/adalar',\n",
       " '/arnavutkoy',\n",
       " '/atasehir',\n",
       " '/avcilar',\n",
       " '/bagcilar',\n",
       " '/bahcelievler',\n",
       " '/bakirkoy',\n",
       " '/basaksehir',\n",
       " '/bayrampasa',\n",
       " '/besiktas',\n",
       " '/beykoz',\n",
       " '/beylikduzu',\n",
       " '/beyoglu',\n",
       " '/buyukcekmece',\n",
       " '/catalca',\n",
       " '/cekmekoy',\n",
       " '/esenler',\n",
       " '/esenyurt',\n",
       " '/eyupsultan',\n",
       " '/fatih',\n",
       " '/gaziosmanpasa',\n",
       " '/gungoren',\n",
       " '/kadikoy',\n",
       " '/kagithane',\n",
       " '/kartal',\n",
       " '/kucukcekmece',\n",
       " '/maltepe',\n",
       " '/pendik',\n",
       " '/sancaktepe',\n",
       " '/sariyer',\n",
       " '/sile',\n",
       " '/silivri',\n",
       " '/sisli',\n",
       " '/sultanbeyli',\n",
       " '/sultangazi',\n",
       " '/tuzla',\n",
       " '/umraniye',\n",
       " '/uskudar',\n",
       " '/zeytinburnu']"
      ]
     },
     "execution_count": 17,
     "metadata": {},
     "output_type": "execute_result"
    }
   ],
   "source": [
    "href"
   ]
  },
  {
   "cell_type": "markdown",
   "id": "6a96f1b6-8c56-4fce-8233-7b0aced9b0d2",
   "metadata": {
    "tags": []
   },
   "source": [
    "# Ornek olarak Adalar ilcesindeki evlere ulasmak icin \"https://www.hepsiemlak.com/adalar\" adresine gidilir."
   ]
  },
  {
   "cell_type": "code",
   "execution_count": 19,
   "id": "4d215bb7-458f-45ef-ace7-5244b8276f8d",
   "metadata": {
    "tags": []
   },
   "outputs": [],
   "source": [
    "# her bir ilceye ait url\n",
    "url_ilce = [\"https://www.hepsiemlak.com\"+f for f in href]"
   ]
  },
  {
   "cell_type": "code",
   "execution_count": 20,
   "id": "4fa43769-c4f6-4556-aba9-9d2055762df7",
   "metadata": {},
   "outputs": [
    {
     "data": {
      "text/plain": [
       "['https://www.hepsiemlak.com/adalar',\n",
       " 'https://www.hepsiemlak.com/arnavutkoy',\n",
       " 'https://www.hepsiemlak.com/atasehir',\n",
       " 'https://www.hepsiemlak.com/avcilar',\n",
       " 'https://www.hepsiemlak.com/bagcilar',\n",
       " 'https://www.hepsiemlak.com/bahcelievler',\n",
       " 'https://www.hepsiemlak.com/bakirkoy',\n",
       " 'https://www.hepsiemlak.com/basaksehir',\n",
       " 'https://www.hepsiemlak.com/bayrampasa',\n",
       " 'https://www.hepsiemlak.com/besiktas',\n",
       " 'https://www.hepsiemlak.com/beykoz',\n",
       " 'https://www.hepsiemlak.com/beylikduzu',\n",
       " 'https://www.hepsiemlak.com/beyoglu',\n",
       " 'https://www.hepsiemlak.com/buyukcekmece',\n",
       " 'https://www.hepsiemlak.com/catalca',\n",
       " 'https://www.hepsiemlak.com/cekmekoy',\n",
       " 'https://www.hepsiemlak.com/esenler',\n",
       " 'https://www.hepsiemlak.com/esenyurt',\n",
       " 'https://www.hepsiemlak.com/eyupsultan',\n",
       " 'https://www.hepsiemlak.com/fatih',\n",
       " 'https://www.hepsiemlak.com/gaziosmanpasa',\n",
       " 'https://www.hepsiemlak.com/gungoren',\n",
       " 'https://www.hepsiemlak.com/kadikoy',\n",
       " 'https://www.hepsiemlak.com/kagithane',\n",
       " 'https://www.hepsiemlak.com/kartal',\n",
       " 'https://www.hepsiemlak.com/kucukcekmece',\n",
       " 'https://www.hepsiemlak.com/maltepe',\n",
       " 'https://www.hepsiemlak.com/pendik',\n",
       " 'https://www.hepsiemlak.com/sancaktepe',\n",
       " 'https://www.hepsiemlak.com/sariyer',\n",
       " 'https://www.hepsiemlak.com/sile',\n",
       " 'https://www.hepsiemlak.com/silivri',\n",
       " 'https://www.hepsiemlak.com/sisli',\n",
       " 'https://www.hepsiemlak.com/sultanbeyli',\n",
       " 'https://www.hepsiemlak.com/sultangazi',\n",
       " 'https://www.hepsiemlak.com/tuzla',\n",
       " 'https://www.hepsiemlak.com/umraniye',\n",
       " 'https://www.hepsiemlak.com/uskudar',\n",
       " 'https://www.hepsiemlak.com/zeytinburnu']"
      ]
     },
     "execution_count": 20,
     "metadata": {},
     "output_type": "execute_result"
    }
   ],
   "source": [
    "url_ilce"
   ]
  },
  {
   "cell_type": "markdown",
   "id": "31220cb2-ed90-43c6-99ff-d30735e7be71",
   "metadata": {},
   "source": [
    "# ornek olarak Adalar ilçesini ele alalim. Adalar ilcesindeki evlerin hepsine ulasmak istiyorum. yani her bir web sayfasinda gezinmek istiyorum. en son hangi sayfa numarasi varsa ona ulasiyorum. dongu ile her sayfayi dolasiyorum."
   ]
  },
  {
   "cell_type": "code",
   "execution_count": 239,
   "id": "0559b4a2-8b5b-415e-ac8b-74cf00b7b29f",
   "metadata": {},
   "outputs": [],
   "source": [
    "'''url_ilce_sayfa = []\n",
    "\n",
    "for u in url_ilce[:1]:\n",
    "    browser.get(u)\n",
    "    myDiv = browser.find_elements(By.CSS_SELECTOR, 'div.list-wrap')  # geriye dizi donderir.\n",
    "    str1=\"\"\n",
    "    for ele in myDiv:\n",
    "        str1 += ele.get_attribute(\"innerHTML\")\n",
    "    soup = BeautifulSoup(str1)\n",
    "    son_sayfa = soup.find_all(\"li\", attrs={\"class\":\"he-pagination__item\"})   \n",
    "    son=[]\n",
    "    for i in son_sayfa:\n",
    "        son.append(i.text)\n",
    "    for i in range(1, int(son[-1])+1):\n",
    "        url_ilce_sayfa.append(u+f\"?page={i}\")'''"
   ]
  },
  {
   "cell_type": "code",
   "execution_count": 240,
   "id": "617c999c-b2b2-45a3-a31b-112659aa8408",
   "metadata": {},
   "outputs": [
    {
     "data": {
      "text/plain": [
       "['https://www.hepsiemlak.com/adalar?page=1',\n",
       " 'https://www.hepsiemlak.com/adalar?page=2',\n",
       " 'https://www.hepsiemlak.com/adalar?page=3',\n",
       " 'https://www.hepsiemlak.com/adalar?page=4',\n",
       " 'https://www.hepsiemlak.com/adalar?page=5',\n",
       " 'https://www.hepsiemlak.com/adalar?page=6',\n",
       " 'https://www.hepsiemlak.com/adalar?page=7',\n",
       " 'https://www.hepsiemlak.com/adalar?page=8',\n",
       " 'https://www.hepsiemlak.com/adalar?page=9',\n",
       " 'https://www.hepsiemlak.com/adalar?page=10',\n",
       " 'https://www.hepsiemlak.com/adalar?page=11',\n",
       " 'https://www.hepsiemlak.com/adalar?page=12',\n",
       " 'https://www.hepsiemlak.com/adalar?page=13',\n",
       " 'https://www.hepsiemlak.com/adalar?page=14',\n",
       " 'https://www.hepsiemlak.com/adalar?page=15',\n",
       " 'https://www.hepsiemlak.com/adalar?page=16',\n",
       " 'https://www.hepsiemlak.com/adalar?page=17',\n",
       " 'https://www.hepsiemlak.com/adalar?page=18',\n",
       " 'https://www.hepsiemlak.com/adalar?page=19',\n",
       " 'https://www.hepsiemlak.com/adalar?page=20',\n",
       " 'https://www.hepsiemlak.com/adalar?page=21',\n",
       " 'https://www.hepsiemlak.com/adalar?page=22',\n",
       " 'https://www.hepsiemlak.com/adalar?page=23',\n",
       " 'https://www.hepsiemlak.com/adalar?page=24']"
      ]
     },
     "execution_count": 240,
     "metadata": {},
     "output_type": "execute_result"
    }
   ],
   "source": [
    "url_ilce_sayfa"
   ]
  },
  {
   "cell_type": "code",
   "execution_count": null,
   "id": "0af56802-f77d-457c-a14a-1b73677a9bc8",
   "metadata": {},
   "outputs": [],
   "source": [
    "url_ilce_sayfa = []\n",
    "\n",
    "for u in url_ilce:\n",
    "    browser.get(u)\n",
    "    myDiv = browser.find_elements(By.CSS_SELECTOR, 'div.list-wrap')  # geriye dizi donderir.\n",
    "    str1=\"\"\n",
    "    for ele in myDiv:\n",
    "        str1 += ele.get_attribute(\"innerHTML\")\n",
    "    soup = BeautifulSoup(str1)\n",
    "    son_sayfa = soup.find_all(\"li\", attrs={\"class\":\"he-pagination__item\"})   \n",
    "    son=[]\n",
    "    for i in son_sayfa:\n",
    "        son.append(i.text)\n",
    "    for i in range(1, int(son[-1])+1):\n",
    "        url_ilce_sayfa.append(u+f\"?page={i}\")"
   ]
  },
  {
   "cell_type": "code",
   "execution_count": 241,
   "id": "d1be1017-4431-43c7-b870-81de103694f7",
   "metadata": {
    "tags": []
   },
   "outputs": [],
   "source": [
    "all_data = []\n",
    "for u in url_ilce_sayfa:\n",
    "    houseRoomCount = []\n",
    "    squareMeter = []\n",
    "    buildingAge = []\n",
    "    floorType = []\n",
    "    homes_prices = []\n",
    "    location = []\n",
    "    url = u\n",
    "    \n",
    "    # Burada her bir ev ilanina ulasmak icin evlere ait id leri web sayfasindan aliyorum. bu id leri kullanarak her \n",
    "    # bir evin ozelliklerini ilgili listeye atiyorum.\n",
    "    \n",
    "    browser.get(url)\n",
    "    myDiv = browser.find_elements(By.CSS_SELECTOR, 'div.list-wrap') \n",
    "    str1=\"\"\n",
    "    for ele in myDiv:\n",
    "        str1 += ele.get_attribute(\"innerHTML\")\n",
    "    soup = BeautifulSoup(str1)\n",
    "    aaa = soup.find_all(\"li\", attrs={\"class\":\"listing-item\"})\n",
    "    aaa = str(aaa)\n",
    "    soup2 = BeautifulSoup(aaa)\n",
    "    ids = soup2.find_all(\"li\")\n",
    "    IDS = [l.get(\"id\") for l in ids]\n",
    "    \n",
    "    #id lerin tutuldugu liste \n",
    "    IDS2 = [x for x in IDS if x is not None]\n",
    "    \n",
    "   \n",
    "    info = []\n",
    "    for i in range(0, len(IDS2)):\n",
    "        aaa = soup.find_all(\"li\", attrs={\"class\":\"listing-item\",\n",
    "                                       \"id\":IDS2[i]})\n",
    "        aaa = str(aaa)\n",
    "        soup2 = BeautifulSoup(aaa)\n",
    "\n",
    "        # evlerin kiralik-satilik veya daire-mustakil ev olarak kategorisini ogrenmek icin id lerini kullaniyoruz.\n",
    "        soup3 = BeautifulSoup(str(soup2.select(\"div.left\")).split(\",\")[0])\n",
    "        try:\n",
    "            info3 = []\n",
    "            for i in soup3:\n",
    "                a = i.text.strip().replace(\"\\n\" , \"\").split(\" \")\n",
    "                for i in a:\n",
    "                    if i != \"\":\n",
    "                        info3.append(i)\n",
    "            info2 = \" \".join(info3[1:])\n",
    "            info.append(info2)\n",
    "        except:\n",
    "            continue\n",
    "        \n",
    "        # ilce\n",
    "        location.append(url.split(\"/\")[-1].split(\"?\")[0])\n",
    "\n",
    "        # ev fiyati\n",
    "        if soup2.find_all(\"span\", attrs={\"class\":\"list-view-price\"}):\n",
    "            span = soup2.find_all(\"span\", attrs={\"class\":\"list-view-price\"})\n",
    "            for i in span:\n",
    "                homes_prices.append(i.text.strip().split(\"\\n\")[0])\n",
    "        else:\n",
    "            homes_prices.append(\"\")\n",
    "\n",
    "        # oda sayisi\n",
    "        if soup2.find_all(\"span\", attrs={\"class\":\"celly houseRoomCount\"}):\n",
    "            span = soup2.find_all(\"span\", attrs={\"class\":\"houseRoomCount\"})\n",
    "            for i in span:\n",
    "                houseRoomCount.append(i.text)\n",
    "        else:\n",
    "            houseRoomCount.append(\"\")\n",
    "\n",
    "        # metre kare\n",
    "        if soup2.find_all(\"span\", attrs={\"class\":\"celly squareMeter list-view-size\"}):\n",
    "            span = soup2.find_all(\"span\", attrs={\"class\":\"celly squareMeter list-view-size\"})\n",
    "            kkk = []\n",
    "            if span:\n",
    "\n",
    "                for i in span:\n",
    "                    kkk.append(i.text)\n",
    "                squareMeter.append(kkk[0].strip().split(\" \")[0])\n",
    "            else:\n",
    "                squareMeter.append(\"\")\n",
    "        else:\n",
    "            squareMeter.append(\"\")\n",
    "\n",
    "        # bina yasi\n",
    "        if soup2.find_all(\"span\", attrs={\"class\":\"celly buildingAge\"}):\n",
    "            span = soup2.find_all(\"span\", attrs={\"class\":\"celly buildingAge\"})\n",
    "            for i in span:\n",
    "                buildingAge.append(i.text)\n",
    "        else:\n",
    "            buildingAge.append(\"\")\n",
    "\n",
    "        # kacinci kat\n",
    "        if soup2.find_all(\"span\", attrs={\"class\":\"floortype\"}):\n",
    "            span = soup2.find_all(\"span\", attrs={\"class\":\"floortype\"})\n",
    "            for i in span:\n",
    "                floorType.append(i.text.strip())\n",
    "\n",
    "        else:\n",
    "            floorType.append(\"\")\n",
    "\n",
    "\n",
    "        df = pd.DataFrame(list(zip(info,location, homes_prices, houseRoomCount, squareMeter, buildingAge, floorType)), \n",
    "                     columns = [\"info_\", \"location\", \"home prices\", \"room count\",\"m2\", \"age\",\"floor type\"])\n",
    "\n",
    "    all_data.append(df)\n"
   ]
  },
  {
   "cell_type": "code",
   "execution_count": 242,
   "id": "1cc77c39-2a9d-41ce-acc7-42b6f1cb9e88",
   "metadata": {},
   "outputs": [],
   "source": [
    "# data adinda dataframe olusturuyoruz.\n",
    "data = pd.concat((a for a in all_data), ignore_index=True)"
   ]
  },
  {
   "cell_type": "code",
   "execution_count": 250,
   "id": "83389ca5-0a7b-4ef7-9098-6acd43e169a0",
   "metadata": {},
   "outputs": [],
   "source": [
    "data.to_csv(\"istanbul_ev_ilanlari.csv\")"
   ]
  },
  {
   "cell_type": "code",
   "execution_count": null,
   "id": "e2d691fb-f5a2-4def-b53e-1e06df618919",
   "metadata": {},
   "outputs": [],
   "source": []
  }
 ],
 "metadata": {
  "kernelspec": {
   "display_name": "Python 3 (ipykernel)",
   "language": "python",
   "name": "python3"
  },
  "language_info": {
   "codemirror_mode": {
    "name": "ipython",
    "version": 3
   },
   "file_extension": ".py",
   "mimetype": "text/x-python",
   "name": "python",
   "nbconvert_exporter": "python",
   "pygments_lexer": "ipython3",
   "version": "3.10.9"
  }
 },
 "nbformat": 4,
 "nbformat_minor": 5
}
