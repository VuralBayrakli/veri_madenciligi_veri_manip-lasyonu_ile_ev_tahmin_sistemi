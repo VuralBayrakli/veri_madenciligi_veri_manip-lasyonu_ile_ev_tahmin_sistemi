{
 "cells": [
  {
   "cell_type": "code",
   "execution_count": 1,
   "id": "bdad808c-f94e-4c4e-833b-45239c4f51dc",
   "metadata": {},
   "outputs": [],
   "source": [
    "import pandas as pd\n",
    "import numpy as np"
   ]
  },
  {
   "cell_type": "code",
   "execution_count": 108,
   "id": "e25ab1e4-f2bc-4f3a-9e05-4c7c5d2cb81f",
   "metadata": {},
   "outputs": [],
   "source": [
    "data = pd.read_csv(\"istanbul_ev_ilanlari.csv\", index_col=0)"
   ]
  },
  {
   "cell_type": "code",
   "execution_count": 109,
   "id": "3a3f5e88-e342-4289-b993-25b180fb94a4",
   "metadata": {},
   "outputs": [
    {
     "data": {
      "text/html": [
       "<div>\n",
       "<style scoped>\n",
       "    .dataframe tbody tr th:only-of-type {\n",
       "        vertical-align: middle;\n",
       "    }\n",
       "\n",
       "    .dataframe tbody tr th {\n",
       "        vertical-align: top;\n",
       "    }\n",
       "\n",
       "    .dataframe thead th {\n",
       "        text-align: right;\n",
       "    }\n",
       "</style>\n",
       "<table border=\"1\" class=\"dataframe\">\n",
       "  <thead>\n",
       "    <tr style=\"text-align: right;\">\n",
       "      <th></th>\n",
       "      <th>info_</th>\n",
       "      <th>location</th>\n",
       "      <th>home prices</th>\n",
       "      <th>room count</th>\n",
       "      <th>m2</th>\n",
       "      <th>age</th>\n",
       "      <th>floor type</th>\n",
       "    </tr>\n",
       "  </thead>\n",
       "  <tbody>\n",
       "    <tr>\n",
       "      <th>0</th>\n",
       "      <td>Satılık Daire</td>\n",
       "      <td>adalar</td>\n",
       "      <td>6.200.000</td>\n",
       "      <td>3 + 1</td>\n",
       "      <td>130</td>\n",
       "      <td>26</td>\n",
       "      <td>2. Kat</td>\n",
       "    </tr>\n",
       "    <tr>\n",
       "      <th>1</th>\n",
       "      <td>Satılık Yazlık</td>\n",
       "      <td>adalar</td>\n",
       "      <td>8.750.000</td>\n",
       "      <td>4 + 1</td>\n",
       "      <td>320</td>\n",
       "      <td>16</td>\n",
       "      <td>Çatı Katı</td>\n",
       "    </tr>\n",
       "    <tr>\n",
       "      <th>2</th>\n",
       "      <td>Satılık Müstakil Ev</td>\n",
       "      <td>adalar</td>\n",
       "      <td>14.000.000</td>\n",
       "      <td>7 + 3</td>\n",
       "      <td>400</td>\n",
       "      <td>23</td>\n",
       "      <td>NaN</td>\n",
       "    </tr>\n",
       "    <tr>\n",
       "      <th>3</th>\n",
       "      <td>Satılık Daire</td>\n",
       "      <td>adalar</td>\n",
       "      <td>6.500.000</td>\n",
       "      <td>4 + 1</td>\n",
       "      <td>220</td>\n",
       "      <td>50</td>\n",
       "      <td>1. Kat</td>\n",
       "    </tr>\n",
       "    <tr>\n",
       "      <th>4</th>\n",
       "      <td>Satılık Daire</td>\n",
       "      <td>adalar</td>\n",
       "      <td>7.500.000</td>\n",
       "      <td>3 + 1</td>\n",
       "      <td>140</td>\n",
       "      <td>30</td>\n",
       "      <td>Bahçe Katı</td>\n",
       "    </tr>\n",
       "  </tbody>\n",
       "</table>\n",
       "</div>"
      ],
      "text/plain": [
       "                 info_ location home prices room count   m2 age  floor type\n",
       "0        Satılık Daire   adalar   6.200.000      3 + 1  130  26      2. Kat\n",
       "1       Satılık Yazlık   adalar   8.750.000      4 + 1  320  16   Çatı Katı\n",
       "2  Satılık Müstakil Ev   adalar  14.000.000      7 + 3  400  23         NaN\n",
       "3        Satılık Daire   adalar   6.500.000      4 + 1  220  50      1. Kat\n",
       "4        Satılık Daire   adalar   7.500.000      3 + 1  140  30  Bahçe Katı"
      ]
     },
     "execution_count": 109,
     "metadata": {},
     "output_type": "execute_result"
    }
   ],
   "source": [
    "data.head()"
   ]
  },
  {
   "cell_type": "code",
   "execution_count": 110,
   "id": "30609028-a42f-4463-9f31-58119a93c0cc",
   "metadata": {},
   "outputs": [
    {
     "data": {
      "text/html": [
       "<div>\n",
       "<style scoped>\n",
       "    .dataframe tbody tr th:only-of-type {\n",
       "        vertical-align: middle;\n",
       "    }\n",
       "\n",
       "    .dataframe tbody tr th {\n",
       "        vertical-align: top;\n",
       "    }\n",
       "\n",
       "    .dataframe thead th {\n",
       "        text-align: right;\n",
       "    }\n",
       "</style>\n",
       "<table border=\"1\" class=\"dataframe\">\n",
       "  <thead>\n",
       "    <tr style=\"text-align: right;\">\n",
       "      <th></th>\n",
       "      <th>info_</th>\n",
       "      <th>location</th>\n",
       "      <th>home prices</th>\n",
       "      <th>room count</th>\n",
       "      <th>m2</th>\n",
       "      <th>age</th>\n",
       "      <th>floor type</th>\n",
       "    </tr>\n",
       "  </thead>\n",
       "  <tbody>\n",
       "    <tr>\n",
       "      <th>79147</th>\n",
       "      <td>Satılık Dükkan &amp; Mağaza</td>\n",
       "      <td>zeytinburnu</td>\n",
       "      <td>2.100.000</td>\n",
       "      <td>NaN</td>\n",
       "      <td>100</td>\n",
       "      <td>28</td>\n",
       "      <td>NaN</td>\n",
       "    </tr>\n",
       "    <tr>\n",
       "      <th>79148</th>\n",
       "      <td>Satılık Apartman Dairesi</td>\n",
       "      <td>zeytinburnu</td>\n",
       "      <td>1.650.000</td>\n",
       "      <td>NaN</td>\n",
       "      <td>85</td>\n",
       "      <td>NaN</td>\n",
       "      <td>NaN</td>\n",
       "    </tr>\n",
       "    <tr>\n",
       "      <th>79149</th>\n",
       "      <td>Kiralık Dükkan &amp; Mağaza</td>\n",
       "      <td>zeytinburnu</td>\n",
       "      <td>10.000</td>\n",
       "      <td>NaN</td>\n",
       "      <td>180</td>\n",
       "      <td>NaN</td>\n",
       "      <td>NaN</td>\n",
       "    </tr>\n",
       "    <tr>\n",
       "      <th>79150</th>\n",
       "      <td>Kiralık Daire</td>\n",
       "      <td>zeytinburnu</td>\n",
       "      <td>50.000</td>\n",
       "      <td>2 + 1</td>\n",
       "      <td>142</td>\n",
       "      <td>1</td>\n",
       "      <td>8. Kat</td>\n",
       "    </tr>\n",
       "    <tr>\n",
       "      <th>79151</th>\n",
       "      <td>Kiralık Daire</td>\n",
       "      <td>zeytinburnu</td>\n",
       "      <td>150.000</td>\n",
       "      <td>3 + 1</td>\n",
       "      <td>230</td>\n",
       "      <td>5</td>\n",
       "      <td>Ara Kat</td>\n",
       "    </tr>\n",
       "  </tbody>\n",
       "</table>\n",
       "</div>"
      ],
      "text/plain": [
       "                          info_     location home prices room count   m2  age  \\\n",
       "79147   Satılık Dükkan & Mağaza  zeytinburnu   2.100.000        NaN  100   28   \n",
       "79148  Satılık Apartman Dairesi  zeytinburnu   1.650.000        NaN   85  NaN   \n",
       "79149   Kiralık Dükkan & Mağaza  zeytinburnu      10.000        NaN  180  NaN   \n",
       "79150             Kiralık Daire  zeytinburnu      50.000      2 + 1  142    1   \n",
       "79151             Kiralık Daire  zeytinburnu     150.000      3 + 1  230    5   \n",
       "\n",
       "      floor type  \n",
       "79147        NaN  \n",
       "79148        NaN  \n",
       "79149        NaN  \n",
       "79150     8. Kat  \n",
       "79151    Ara Kat  "
      ]
     },
     "execution_count": 110,
     "metadata": {},
     "output_type": "execute_result"
    }
   ],
   "source": [
    "data.tail()"
   ]
  },
  {
   "cell_type": "code",
   "execution_count": 111,
   "id": "541d4875-5b32-48c2-af8b-cbf27557144b",
   "metadata": {},
   "outputs": [
    {
     "name": "stdout",
     "output_type": "stream",
     "text": [
      "<class 'pandas.core.frame.DataFrame'>\n",
      "Int64Index: 79152 entries, 0 to 79151\n",
      "Data columns (total 7 columns):\n",
      " #   Column       Non-Null Count  Dtype \n",
      "---  ------       --------------  ----- \n",
      " 0   info_        79152 non-null  object\n",
      " 1   location     79152 non-null  object\n",
      " 2   home prices  79152 non-null  object\n",
      " 3   room count   67036 non-null  object\n",
      " 4   m2           79019 non-null  object\n",
      " 5   age          73773 non-null  object\n",
      " 6   floor type   62689 non-null  object\n",
      "dtypes: object(7)\n",
      "memory usage: 4.8+ MB\n"
     ]
    }
   ],
   "source": [
    "data.info()"
   ]
  },
  {
   "cell_type": "code",
   "execution_count": 112,
   "id": "dbc23862-2f68-42f8-82a7-9d34cfd062d7",
   "metadata": {},
   "outputs": [
    {
     "data": {
      "text/plain": [
       "info_              0\n",
       "location           0\n",
       "home prices        0\n",
       "room count     12116\n",
       "m2               133\n",
       "age             5379\n",
       "floor type     16463\n",
       "dtype: int64"
      ]
     },
     "execution_count": 112,
     "metadata": {},
     "output_type": "execute_result"
    }
   ],
   "source": [
    "data.isnull().sum()"
   ]
  },
  {
   "cell_type": "code",
   "execution_count": null,
   "id": "f7449605-70c7-4a04-82dc-7837fd0f69f2",
   "metadata": {
    "tags": []
   },
   "outputs": [],
   "source": [
    "# \"home prices\" ve \"m2\" degiskenleri uzerinde islemler yapabilmek icin noktalari kaldiriyoruz.\n",
    "data[\"home prices\"] = pd.DataFrame(data[\"home prices\"].str.replace(\".\", \"\"))\n",
    "data[\"m2\"] = pd.DataFrame(data[\"m2\"].str.replace(\".\", \"\"))"
   ]
  },
  {
   "cell_type": "code",
   "execution_count": 114,
   "id": "93c5b569-cc8d-4194-8f3d-b1cb5c7dd98b",
   "metadata": {},
   "outputs": [
    {
     "data": {
      "text/plain": [
       "Sıfır Bina    12812\n",
       "5              6489\n",
       "4              4848\n",
       "30             4444\n",
       "25             3221\n",
       "              ...  \n",
       "123               1\n",
       "154               1\n",
       "133               1\n",
       "94                1\n",
       "195               1\n",
       "Name: age, Length: 134, dtype: int64"
      ]
     },
     "execution_count": 114,
     "metadata": {},
     "output_type": "execute_result"
    }
   ],
   "source": [
    "data[\"age\"].value_counts()"
   ]
  },
  {
   "cell_type": "code",
   "execution_count": 115,
   "id": "b0607118-7b8c-4d75-8f64-c9c54db42680",
   "metadata": {},
   "outputs": [],
   "source": [
    "# \"Sıfır Bina\" degerini 0 yapiyoruz.\n",
    "data.loc[data[\"age\"] == \"Sıfır Bina\", \"age\"] = 0"
   ]
  },
  {
   "cell_type": "code",
   "execution_count": 118,
   "id": "6c487e72-e1fb-4079-aba6-05be568231fc",
   "metadata": {},
   "outputs": [
    {
     "data": {
      "text/plain": [
       "array(['Satılık Daire', 'Satılık Yazlık', 'Satılık Müstakil Ev',\n",
       "       'Satılık Butik Otel', 'Satılık Köşk', 'Kiralık Daire',\n",
       "       'Satılık Villa', 'Satılık Yalı', 'Satılık Bina',\n",
       "       'Satılık Yalı Dairesi', 'Kiralık Genel', 'Satılık Otel',\n",
       "       'Satılık Muhtelif Arsa', 'Satılık Konut+Ticaret',\n",
       "       'Kiralık Müstakil Ev', 'Satılık İmarlı - Konut', 'Kiralık Yazlık',\n",
       "       'Kiralık Dükkan & Mağaza', 'Kiralık Sanal & Hazır Ofis',\n",
       "       'Kiralık Villa', 'Satılık Sit Alanı', 'Satılık Dükkan & Mağaza',\n",
       "       'Satılık Turistik Arsa', 'Satılık Pansiyon',\n",
       "       'Günlük Kiralık Daire', 'Satılık Çiftlik', 'Kiralık Köşk',\n",
       "       'Kiralık Yalı Dairesi', 'Satılık Apart', 'Satılık Genel',\n",
       "       'Satılık Motel', 'Satılık İmarlı - Sanayi', 'Satılık Tarla',\n",
       "       'Kiralık Tarla', 'Satılık Ofis', 'Satılık İmarlı - Ticari',\n",
       "       'Satılık Depo', 'Kiralık Fabrika', 'Satılık Fabrika',\n",
       "       'Kiralık Atölye', 'Satılık Özel Kullanım', 'Kiralık Muhtelif Arsa',\n",
       "       'Satılık Bahçe', 'Kiralık Bina', 'Kiralık Ofis', 'Kiralık Depo',\n",
       "       'Kiralık Özel Kullanım', 'Satılık Benzin İstasyonu',\n",
       "       'Satılık Prefabrik', 'Satılık Plaza', 'Kiralık Bahçe',\n",
       "       'Kiralık İmarlı - Konut', 'Satılık Cafe & Bar', 'Satılık Hastane',\n",
       "       'Satılık Turistik İşletme', 'Kiralık İmarlı - Ticari',\n",
       "       'Kiralık İmarlı - Sanayi', 'Satılık Okul (Eğitim Tesisi)',\n",
       "       'Satılık Residence', 'Kiralık Plaza', 'Kiralık Residence',\n",
       "       'Satılık İş Hanı Katı', 'Kiralık Apartman Dairesi',\n",
       "       'Satılık Zeytinlik', 'Kiralık Cafe & Bar', 'Satılık Atölye',\n",
       "       'Satılık Büro', 'Satılık Plaza Katı', 'Kiralık Apart',\n",
       "       'Kiralık Plaza Katı', 'Kiralık İş Hanı Katı', 'Kiralık Otel',\n",
       "       'Günlük Kiralık Villa', 'Satılık Apartman Dairesi',\n",
       "       'Günlük Kiralık Müstakil Ev', 'Kiralık Hastane (Sağlık Tesisi)',\n",
       "       'Günlük Kiralık Residence', 'Kiralık İş Hanı',\n",
       "       'Kiralık Butik Otel', 'Kiralık Turistik İşletme',\n",
       "       'Satılık Toplu Konut için Tahsis', 'Satılık Bağ',\n",
       "       'Satılık Pazar Yeri', 'Satılık İş Hanı', 'Kiralık Kiralık',\n",
       "       'Kiralık Villa Katı', 'Kiralık Büro', 'Satılık Loft Daire',\n",
       "       'Kiralık Yalı', 'Satılık Çiftlik Evi', 'Satılık Köy Evi',\n",
       "       'Kiralık Çiftlik Evi', 'Kiralık Eczane', 'Kiralık Çiftlik',\n",
       "       'Kiralık Bağ', 'Kiralık Konut+Ticaret', 'Satılık Villa Katı',\n",
       "       'Satılık Dağ Evi', 'Satılık Taksi Durağı',\n",
       "       'Satılık Sanal & Hazır Ofis', 'Günlük Kiralık Prefabrik',\n",
       "       'Kiralık Kooperatif', 'Kiralık Pansiyon', 'Kiralık Sit Alanı',\n",
       "       'Satılık Hastane (Sağlık Tesisi)', 'Kiralık Hastane',\n",
       "       'Kiralık Prefabrik', 'Kiralık Loft Daire', 'Satılık Tatil Köyü',\n",
       "       'Kiralık Turistik Arsa', 'Kiralık Benzin İstasyonu'], dtype=object)"
      ]
     },
     "execution_count": 118,
     "metadata": {},
     "output_type": "execute_result"
    }
   ],
   "source": [
    "data[\"info_\"].unique()"
   ]
  },
  {
   "cell_type": "code",
   "execution_count": 119,
   "id": "a55e0e1c-2249-41bc-9cdc-a46959fdffcc",
   "metadata": {},
   "outputs": [],
   "source": [
    "data_sd = data.loc[(data[\"info_\"] == \"Satılık Daire\") | (data[\"info_\"] == \"Satılık Residence\")].reset_index(drop=True)"
   ]
  },
  {
   "cell_type": "code",
   "execution_count": 120,
   "id": "0438fa6c-ad73-4206-a0e4-f8992b5e095b",
   "metadata": {},
   "outputs": [
    {
     "data": {
      "text/plain": [
       "info_          0\n",
       "location       0\n",
       "home prices    0\n",
       "room count     0\n",
       "m2             0\n",
       "age            3\n",
       "floor type     5\n",
       "dtype: int64"
      ]
     },
     "execution_count": 120,
     "metadata": {},
     "output_type": "execute_result"
    }
   ],
   "source": [
    "data_sd.isnull().sum()"
   ]
  },
  {
   "cell_type": "code",
   "execution_count": 123,
   "id": "a28c76e8-c32d-4037-b61d-3bdf80739adf",
   "metadata": {},
   "outputs": [],
   "source": [
    "# null degerleri siliyoruz.\n",
    "data_sd = data_sd.dropna().reset_index(drop=True)"
   ]
  },
  {
   "cell_type": "code",
   "execution_count": 124,
   "id": "8ef43b15-8f13-471d-86d5-bac05090f770",
   "metadata": {},
   "outputs": [],
   "source": [
    "# verileri islemek icin int tip degisikligi yapiyoruz.\n",
    "data_sd[\"home prices\"] = data_sd[[\"home prices\"]].astype(\"int64\")\n",
    "data_sd[\"m2\"] = data_sd[[\"m2\"]].astype(\"int64\")\n",
    "data_sd[\"age\"] = data_sd[[\"age\"]].astype(\"int64\")"
   ]
  },
  {
   "cell_type": "code",
   "execution_count": 125,
   "id": "662f353b-287e-4219-804b-ba019c80da79",
   "metadata": {},
   "outputs": [
    {
     "name": "stdout",
     "output_type": "stream",
     "text": [
      "<class 'pandas.core.frame.DataFrame'>\n",
      "RangeIndex: 50660 entries, 0 to 50659\n",
      "Data columns (total 7 columns):\n",
      " #   Column       Non-Null Count  Dtype \n",
      "---  ------       --------------  ----- \n",
      " 0   info_        50660 non-null  object\n",
      " 1   location     50660 non-null  object\n",
      " 2   home prices  50660 non-null  int64 \n",
      " 3   room count   50660 non-null  object\n",
      " 4   m2           50660 non-null  int64 \n",
      " 5   age          50660 non-null  int64 \n",
      " 6   floor type   50660 non-null  object\n",
      "dtypes: int64(3), object(4)\n",
      "memory usage: 2.7+ MB\n"
     ]
    }
   ],
   "source": [
    "data_sd.info()"
   ]
  },
  {
   "cell_type": "markdown",
   "id": "c6edaec5-a5e8-4e1b-ab45-b800ed85cddb",
   "metadata": {},
   "source": [
    "# aykiri degerler"
   ]
  },
  {
   "cell_type": "code",
   "execution_count": 126,
   "id": "d41cbe7e-2c37-49a2-b7d4-950a7c6af1da",
   "metadata": {},
   "outputs": [],
   "source": [
    "import seaborn as sns"
   ]
  },
  {
   "cell_type": "code",
   "execution_count": 127,
   "id": "a69259fc-9e82-43ca-9524-df92f3d0684c",
   "metadata": {},
   "outputs": [
    {
     "name": "stderr",
     "output_type": "stream",
     "text": [
      "C:\\Users\\VuralBayrakli\\anaconda3\\envs\\env\\lib\\site-packages\\seaborn\\_decorators.py:36: FutureWarning: Pass the following variable as a keyword arg: x. From version 0.12, the only valid positional argument will be `data`, and passing other arguments without an explicit keyword will result in an error or misinterpretation.\n",
      "  warnings.warn(\n"
     ]
    },
    {
     "data": {
      "text/plain": [
       "<AxesSubplot: xlabel='home prices'>"
      ]
     },
     "execution_count": 127,
     "metadata": {},
     "output_type": "execute_result"
    },
    {
     "data": {
      "image/png": "[encoded data removed]",
      "text/plain": [
       "<Figure size 640x480 with 1 Axes>"
      ]
     },
     "metadata": {},
     "output_type": "display_data"
    }
   ],
   "source": [
    "# \"home prices\" degiskeni aykiri degerler\n",
    "sns.boxplot(data_sd[\"home prices\"])"
   ]
  },
  {
   "cell_type": "code",
   "execution_count": 128,
   "id": "b0406420-2ba8-48da-8858-e8432ed96cc0",
   "metadata": {},
   "outputs": [
    {
     "name": "stderr",
     "output_type": "stream",
     "text": [
      "C:\\Users\\VuralBayrakli\\anaconda3\\envs\\env\\lib\\site-packages\\seaborn\\_decorators.py:36: FutureWarning: Pass the following variable as a keyword arg: x. From version 0.12, the only valid positional argument will be `data`, and passing other arguments without an explicit keyword will result in an error or misinterpretation.\n",
      "  warnings.warn(\n"
     ]
    },
    {
     "data": {
      "text/plain": [
       "<AxesSubplot: xlabel='m2'>"
      ]
     },
     "execution_count": 128,
     "metadata": {},
     "output_type": "execute_result"
    },
    {
     "data": {
      "image/png": "[encoded data removed]",
      "text/plain": [
       "<Figure size 640x480 with 1 Axes>"
      ]
     },
     "metadata": {},
     "output_type": "display_data"
    }
   ],
   "source": [
    "# \"m2\" degiskeni aykiri degerler\n",
    "sns.boxplot(data_sd[\"m2\"])"
   ]
  },
  {
   "cell_type": "code",
   "execution_count": 129,
   "id": "c3976077-7fa7-418a-9f85-36ca7db642b8",
   "metadata": {},
   "outputs": [
    {
     "name": "stderr",
     "output_type": "stream",
     "text": [
      "C:\\Users\\VuralBayrakli\\anaconda3\\envs\\env\\lib\\site-packages\\seaborn\\_decorators.py:36: FutureWarning: Pass the following variable as a keyword arg: x. From version 0.12, the only valid positional argument will be `data`, and passing other arguments without an explicit keyword will result in an error or misinterpretation.\n",
      "  warnings.warn(\n"
     ]
    },
    {
     "data": {
      "text/plain": [
       "<AxesSubplot: xlabel='age'>"
      ]
     },
     "execution_count": 129,
     "metadata": {},
     "output_type": "execute_result"
    },
    {
     "data": {
      "image/png": "[encoded data removed]",
      "text/plain": [
       "<Figure size 640x480 with 1 Axes>"
      ]
     },
     "metadata": {},
     "output_type": "display_data"
    }
   ],
   "source": [
    "# \"age\" degiskeni aykiri degerler\n",
    "sns.boxplot(data_sd[\"age\"])"
   ]
  },
  {
   "cell_type": "markdown",
   "id": "d41b2c1e-0d73-4cf6-b60e-754744b1416b",
   "metadata": {},
   "source": [
    "## bu aykiri degerleri cikariyoruz."
   ]
  },
  {
   "cell_type": "code",
   "execution_count": 130,
   "id": "2a3583b5-2a14-46d9-b310-90b85fd52879",
   "metadata": {
    "tags": []
   },
   "outputs": [],
   "source": [
    "def aykiri_deger(data, var):\n",
    "    Q1 = np.quantile(data[var], 0.25)\n",
    "    Q3 = np.quantile(data[var], 0.75)\n",
    "    IQR = Q3 - Q1\n",
    "    lower = Q1 - 1.5*IQR\n",
    "    upper = Q3 + 1.5*IQR\n",
    "    \n",
    "    return data[(data[var] > lower) & (data[var] < upper)].reset_index(drop=True)\n",
    "    "
   ]
  },
  {
   "cell_type": "code",
   "execution_count": 131,
   "id": "ca4d71b5-2afe-49b0-9a36-142113771693",
   "metadata": {},
   "outputs": [],
   "source": [
    "# \"home prices\" degiskeni aykiri degerleri cikariyoruz.\n",
    "data_sd_fixed = aykiri_deger(data_sd, \"home prices\")"
   ]
  },
  {
   "cell_type": "code",
   "execution_count": 132,
   "id": "828681c1-4781-4557-9980-f3d9eebf1fae",
   "metadata": {},
   "outputs": [
    {
     "data": {
      "text/html": [
       "<div>\n",
       "<style scoped>\n",
       "    .dataframe tbody tr th:only-of-type {\n",
       "        vertical-align: middle;\n",
       "    }\n",
       "\n",
       "    .dataframe tbody tr th {\n",
       "        vertical-align: top;\n",
       "    }\n",
       "\n",
       "    .dataframe thead th {\n",
       "        text-align: right;\n",
       "    }\n",
       "</style>\n",
       "<table border=\"1\" class=\"dataframe\">\n",
       "  <thead>\n",
       "    <tr style=\"text-align: right;\">\n",
       "      <th></th>\n",
       "      <th>info_</th>\n",
       "      <th>location</th>\n",
       "      <th>home prices</th>\n",
       "      <th>room count</th>\n",
       "      <th>m2</th>\n",
       "      <th>age</th>\n",
       "      <th>floor type</th>\n",
       "    </tr>\n",
       "  </thead>\n",
       "  <tbody>\n",
       "    <tr>\n",
       "      <th>0</th>\n",
       "      <td>Satılık Daire</td>\n",
       "      <td>adalar</td>\n",
       "      <td>6200000</td>\n",
       "      <td>3 + 1</td>\n",
       "      <td>130</td>\n",
       "      <td>26</td>\n",
       "      <td>2. Kat</td>\n",
       "    </tr>\n",
       "    <tr>\n",
       "      <th>1</th>\n",
       "      <td>Satılık Daire</td>\n",
       "      <td>adalar</td>\n",
       "      <td>6500000</td>\n",
       "      <td>4 + 1</td>\n",
       "      <td>220</td>\n",
       "      <td>50</td>\n",
       "      <td>1. Kat</td>\n",
       "    </tr>\n",
       "    <tr>\n",
       "      <th>2</th>\n",
       "      <td>Satılık Daire</td>\n",
       "      <td>adalar</td>\n",
       "      <td>7500000</td>\n",
       "      <td>3 + 1</td>\n",
       "      <td>140</td>\n",
       "      <td>30</td>\n",
       "      <td>Bahçe Katı</td>\n",
       "    </tr>\n",
       "    <tr>\n",
       "      <th>3</th>\n",
       "      <td>Satılık Daire</td>\n",
       "      <td>adalar</td>\n",
       "      <td>7980000</td>\n",
       "      <td>5 + 1</td>\n",
       "      <td>160</td>\n",
       "      <td>31</td>\n",
       "      <td>Bahçe Katı</td>\n",
       "    </tr>\n",
       "    <tr>\n",
       "      <th>4</th>\n",
       "      <td>Satılık Daire</td>\n",
       "      <td>adalar</td>\n",
       "      <td>6250000</td>\n",
       "      <td>4 + 1</td>\n",
       "      <td>170</td>\n",
       "      <td>20</td>\n",
       "      <td>En Üst Kat</td>\n",
       "    </tr>\n",
       "    <tr>\n",
       "      <th>...</th>\n",
       "      <td>...</td>\n",
       "      <td>...</td>\n",
       "      <td>...</td>\n",
       "      <td>...</td>\n",
       "      <td>...</td>\n",
       "      <td>...</td>\n",
       "      <td>...</td>\n",
       "    </tr>\n",
       "    <tr>\n",
       "      <th>45889</th>\n",
       "      <td>Satılık Daire</td>\n",
       "      <td>zeytinburnu</td>\n",
       "      <td>7500000</td>\n",
       "      <td>3 + 1</td>\n",
       "      <td>130</td>\n",
       "      <td>30</td>\n",
       "      <td>8. Kat</td>\n",
       "    </tr>\n",
       "    <tr>\n",
       "      <th>45890</th>\n",
       "      <td>Satılık Daire</td>\n",
       "      <td>zeytinburnu</td>\n",
       "      <td>3000000</td>\n",
       "      <td>3 + 2</td>\n",
       "      <td>160</td>\n",
       "      <td>15</td>\n",
       "      <td>3. Kat</td>\n",
       "    </tr>\n",
       "    <tr>\n",
       "      <th>45891</th>\n",
       "      <td>Satılık Daire</td>\n",
       "      <td>zeytinburnu</td>\n",
       "      <td>2600000</td>\n",
       "      <td>3 + 1</td>\n",
       "      <td>130</td>\n",
       "      <td>28</td>\n",
       "      <td>12. Kat</td>\n",
       "    </tr>\n",
       "    <tr>\n",
       "      <th>45892</th>\n",
       "      <td>Satılık Daire</td>\n",
       "      <td>zeytinburnu</td>\n",
       "      <td>2100000</td>\n",
       "      <td>2 + 1</td>\n",
       "      <td>100</td>\n",
       "      <td>25</td>\n",
       "      <td>2. Kat</td>\n",
       "    </tr>\n",
       "    <tr>\n",
       "      <th>45893</th>\n",
       "      <td>Satılık Daire</td>\n",
       "      <td>zeytinburnu</td>\n",
       "      <td>970000</td>\n",
       "      <td>2 + 1</td>\n",
       "      <td>80</td>\n",
       "      <td>28</td>\n",
       "      <td>5. Kat</td>\n",
       "    </tr>\n",
       "  </tbody>\n",
       "</table>\n",
       "<p>45894 rows × 7 columns</p>\n",
       "</div>"
      ],
      "text/plain": [
       "               info_     location  home prices room count   m2  age  \\\n",
       "0      Satılık Daire       adalar      6200000      3 + 1  130   26   \n",
       "1      Satılık Daire       adalar      6500000      4 + 1  220   50   \n",
       "2      Satılık Daire       adalar      7500000      3 + 1  140   30   \n",
       "3      Satılık Daire       adalar      7980000      5 + 1  160   31   \n",
       "4      Satılık Daire       adalar      6250000      4 + 1  170   20   \n",
       "...              ...          ...          ...        ...  ...  ...   \n",
       "45889  Satılık Daire  zeytinburnu      7500000      3 + 1  130   30   \n",
       "45890  Satılık Daire  zeytinburnu      3000000      3 + 2  160   15   \n",
       "45891  Satılık Daire  zeytinburnu      2600000      3 + 1  130   28   \n",
       "45892  Satılık Daire  zeytinburnu      2100000      2 + 1  100   25   \n",
       "45893  Satılık Daire  zeytinburnu       970000      2 + 1   80   28   \n",
       "\n",
       "       floor type  \n",
       "0          2. Kat  \n",
       "1          1. Kat  \n",
       "2      Bahçe Katı  \n",
       "3      Bahçe Katı  \n",
       "4      En Üst Kat  \n",
       "...           ...  \n",
       "45889      8. Kat  \n",
       "45890      3. Kat  \n",
       "45891     12. Kat  \n",
       "45892      2. Kat  \n",
       "45893      5. Kat  \n",
       "\n",
       "[45894 rows x 7 columns]"
      ]
     },
     "execution_count": 132,
     "metadata": {},
     "output_type": "execute_result"
    }
   ],
   "source": [
    "data_sd_fixed"
   ]
  },
  {
   "cell_type": "code",
   "execution_count": 133,
   "id": "4c30a9df-7fae-40fd-95b9-8dfa4e03d0af",
   "metadata": {
    "tags": []
   },
   "outputs": [],
   "source": [
    "# \"m2\" degiskeni aykiri degerleri cikariyoruz.\n",
    "data_sd_fixed = aykiri_deger(data_sd_fixed, \"m2\")"
   ]
  },
  {
   "cell_type": "code",
   "execution_count": 134,
   "id": "8d1dbb41-a7ab-4882-a290-8ef8150d2469",
   "metadata": {
    "tags": []
   },
   "outputs": [],
   "source": [
    "# \"age\" degiskeni aykiri degerleri cikariyoruz.\n",
    "data_sd_fixed = aykiri_deger(data_sd_fixed, \"age\")"
   ]
  },
  {
   "cell_type": "markdown",
   "id": "62d608b3-551b-485a-8a95-266cd6b220ba",
   "metadata": {},
   "source": [
    "## aykiri degerlerden sonra"
   ]
  },
  {
   "cell_type": "code",
   "execution_count": 135,
   "id": "ea6f77d8-d368-4b3f-98e3-f8c946755c7f",
   "metadata": {},
   "outputs": [
    {
     "name": "stderr",
     "output_type": "stream",
     "text": [
      "C:\\Users\\VuralBayrakli\\anaconda3\\envs\\env\\lib\\site-packages\\seaborn\\_decorators.py:36: FutureWarning: Pass the following variable as a keyword arg: x. From version 0.12, the only valid positional argument will be `data`, and passing other arguments without an explicit keyword will result in an error or misinterpretation.\n",
      "  warnings.warn(\n"
     ]
    },
    {
     "data": {
      "text/plain": [
       "<AxesSubplot: xlabel='home prices'>"
      ]
     },
     "execution_count": 135,
     "metadata": {},
     "output_type": "execute_result"
    },
    {
     "data": {
      "image/png": "[encoded data removed]",
      "text/plain": [
       "<Figure size 640x480 with 1 Axes>"
      ]
     },
     "metadata": {},
     "output_type": "display_data"
    }
   ],
   "source": [
    "sns.boxplot(data_sd_fixed[\"home prices\"])"
   ]
  },
  {
   "cell_type": "code",
   "execution_count": 136,
   "id": "1e76ce5d-1946-4aab-9ea1-cd2ef1c6beec",
   "metadata": {},
   "outputs": [
    {
     "name": "stderr",
     "output_type": "stream",
     "text": [
      "C:\\Users\\VuralBayrakli\\anaconda3\\envs\\env\\lib\\site-packages\\seaborn\\_decorators.py:36: FutureWarning: Pass the following variable as a keyword arg: x. From version 0.12, the only valid positional argument will be `data`, and passing other arguments without an explicit keyword will result in an error or misinterpretation.\n",
      "  warnings.warn(\n"
     ]
    },
    {
     "data": {
      "text/plain": [
       "<AxesSubplot: xlabel='m2'>"
      ]
     },
     "execution_count": 136,
     "metadata": {},
     "output_type": "execute_result"
    },
    {
     "data": {
      "image/png": "[encoded data removed]",
      "text/plain": [
       "<Figure size 640x480 with 1 Axes>"
      ]
     },
     "metadata": {},
     "output_type": "display_data"
    }
   ],
   "source": [
    "sns.boxplot(data_sd_fixed[\"m2\"])"
   ]
  },
  {
   "cell_type": "code",
   "execution_count": 137,
   "id": "fbdb9a75-8a0f-4309-90db-aa2b4bbcc8a8",
   "metadata": {},
   "outputs": [
    {
     "name": "stderr",
     "output_type": "stream",
     "text": [
      "C:\\Users\\VuralBayrakli\\anaconda3\\envs\\env\\lib\\site-packages\\seaborn\\_decorators.py:36: FutureWarning: Pass the following variable as a keyword arg: x. From version 0.12, the only valid positional argument will be `data`, and passing other arguments without an explicit keyword will result in an error or misinterpretation.\n",
      "  warnings.warn(\n"
     ]
    },
    {
     "data": {
      "text/plain": [
       "<AxesSubplot: xlabel='age'>"
      ]
     },
     "execution_count": 137,
     "metadata": {},
     "output_type": "execute_result"
    },
    {
     "data": {
      "image/png": "[encoded data removed]",
      "text/plain": [
       "<Figure size 640x480 with 1 Axes>"
      ]
     },
     "metadata": {},
     "output_type": "display_data"
    }
   ],
   "source": [
    "sns.boxplot(data_sd_fixed[\"age\"])"
   ]
  },
  {
   "cell_type": "code",
   "execution_count": 138,
   "id": "5ee0dc86-c347-43b2-accb-b68a82cc214f",
   "metadata": {},
   "outputs": [
    {
     "data": {
      "text/plain": [
       "array(['adalar', 'arnavutkoy', 'atasehir', 'avcilar', 'bagcilar',\n",
       "       'bahcelievler', 'bakirkoy', 'basaksehir', 'bayrampasa', 'besiktas',\n",
       "       'beykoz', 'beylikduzu', 'beyoglu', 'buyukcekmece', 'catalca',\n",
       "       'cekmekoy', 'esenler', 'esenyurt', 'eyupsultan', 'fatih',\n",
       "       'gaziosmanpasa', 'gungoren', 'kadikoy', 'kagithane', 'kartal',\n",
       "       'kucukcekmece', 'maltepe', 'pendik', 'sancaktepe', 'sariyer',\n",
       "       'sile', 'silivri', 'sisli', 'sultanbeyli', 'sultangazi', 'tuzla',\n",
       "       'umraniye', 'uskudar', 'zeytinburnu'], dtype=object)"
      ]
     },
     "execution_count": 138,
     "metadata": {},
     "output_type": "execute_result"
    }
   ],
   "source": [
    "data_sd_fixed[\"location\"].unique()"
   ]
  },
  {
   "cell_type": "code",
   "execution_count": 139,
   "id": "b171e625-f224-42f1-837e-6967f9b5b33a",
   "metadata": {},
   "outputs": [
    {
     "data": {
      "text/plain": [
       "array([26, 30, 31, 20, 40, 35, 33, 36, 28, 49, 44, 41, 32, 25, 38, 24, 52,\n",
       "        2, 51, 57, 15, 27, 34,  1, 37, 50, 47, 16, 10, 43, 17, 21, 45, 42,\n",
       "       55, 22, 29,  0,  5,  3,  6,  8,  4,  7, 11,  9, 12, 14, 13, 18, 23,\n",
       "       48, 19, 46, 39, 53, 54, 56, 58], dtype=int64)"
      ]
     },
     "execution_count": 139,
     "metadata": {},
     "output_type": "execute_result"
    }
   ],
   "source": [
    "data_sd_fixed[\"age\"].unique()"
   ]
  },
  {
   "cell_type": "code",
   "execution_count": 140,
   "id": "ae1ed92e-b1d0-4bfd-9e37-808406f819a1",
   "metadata": {},
   "outputs": [
    {
     "data": {
      "text/plain": [
       "12.75193585965874"
      ]
     },
     "execution_count": 140,
     "metadata": {},
     "output_type": "execute_result"
    }
   ],
   "source": [
    "data_sd_fixed[\"age\"].mean()"
   ]
  },
  {
   "cell_type": "code",
   "execution_count": 141,
   "id": "2de34803-a3e8-4608-9e69-c28aba06bb28",
   "metadata": {},
   "outputs": [
    {
     "data": {
      "text/plain": [
       "0     8898\n",
       "5     4114\n",
       "4     3300\n",
       "30    2194\n",
       "3     1642\n",
       "10    1525\n",
       "25    1507\n",
       "35    1499\n",
       "31    1310\n",
       "11    1232\n",
       "1     1222\n",
       "2     1181\n",
       "7     1131\n",
       "8     1128\n",
       "26    1101\n",
       "6     1077\n",
       "40    1031\n",
       "21     851\n",
       "15     807\n",
       "20     733\n",
       "16     621\n",
       "12     606\n",
       "28     495\n",
       "9      467\n",
       "13     416\n",
       "45     352\n",
       "23     302\n",
       "27     293\n",
       "22     287\n",
       "50     253\n",
       "29     244\n",
       "14     236\n",
       "32     226\n",
       "24     212\n",
       "18     208\n",
       "33     170\n",
       "17     170\n",
       "38     169\n",
       "19     100\n",
       "36      96\n",
       "34      90\n",
       "37      49\n",
       "39      41\n",
       "55      34\n",
       "42      32\n",
       "48      21\n",
       "43      18\n",
       "44      15\n",
       "47      14\n",
       "41      14\n",
       "52      12\n",
       "49      10\n",
       "46       9\n",
       "51       4\n",
       "57       2\n",
       "53       2\n",
       "54       2\n",
       "56       2\n",
       "58       2\n",
       "Name: age, dtype: int64"
      ]
     },
     "execution_count": 141,
     "metadata": {},
     "output_type": "execute_result"
    }
   ],
   "source": [
    "data_sd_fixed[\"age\"].value_counts()"
   ]
  },
  {
   "cell_type": "code",
   "execution_count": 142,
   "id": "1c8f5033-6f1f-44c4-bd62-e60000d064b0",
   "metadata": {},
   "outputs": [
    {
     "name": "stderr",
     "output_type": "stream",
     "text": [
      "C:\\Users\\VuralBayrakli\\AppData\\Local\\Temp\\ipykernel_21672\\2154840668.py:5: FutureWarning: The behavior of `series[i:j]` with an integer-dtype index is deprecated. In a future version, this will be treated as *label-based* indexing, consistent with e.g. `series[i]` lookups. To retain the old behavior, use `series.iloc[i:j]`. To get the future behavior, use `series.loc[i:j]`.\n",
      "  ax.pie(data_sd_fixed[\"age\"].value_counts()[:20], labels=data_sd_fixed['age'].value_counts().index[:20],autopct='%1.1f%%',shadow=True,radius=2,startangle=90)\n"
     ]
    },
    {
     "data": {
      "text/plain": [
       "Text(0.5, 1.0, 'Building Age')"
      ]
     },
     "execution_count": 142,
     "metadata": {},
     "output_type": "execute_result"
    },
    {
     "data": {
      "image/png": "[encoded data removed]",
      "text/plain": [
       "<Figure size 700x700 with 1 Axes>"
      ]
     },
     "metadata": {},
     "output_type": "display_data"
    }
   ],
   "source": [
    "import matplotlib.pyplot as plt\n",
    "fig = plt.figure(figsize=(7, 7))\n",
    "ax = plt.gca()\n",
    "\n",
    "ax.pie(data_sd_fixed[\"age\"].value_counts()[:20], labels=data_sd_fixed['age'].value_counts().index[:20],autopct='%1.1f%%',shadow=True,radius=2,startangle=90)\n",
    "ax.legend(data_sd_fixed[\"age\"].unique())\n",
    "ax.set_title(\"Building Age\")"
   ]
  },
  {
   "cell_type": "code",
   "execution_count": 143,
   "id": "c24cc9a1-c35f-48d1-93d2-2c7d4a4acf06",
   "metadata": {},
   "outputs": [
    {
     "data": {
      "text/plain": [
       "3953565.0105641717"
      ]
     },
     "execution_count": 143,
     "metadata": {},
     "output_type": "execute_result"
    }
   ],
   "source": [
    "data_sd_fixed[data_sd_fixed[\"age\"]==0][\"home prices\"].mean()"
   ]
  },
  {
   "cell_type": "code",
   "execution_count": 144,
   "id": "210c1df7-fbfd-4e84-8c88-5e93d4e9881c",
   "metadata": {},
   "outputs": [
    {
     "data": {
      "text/plain": [
       "13550000"
      ]
     },
     "execution_count": 144,
     "metadata": {},
     "output_type": "execute_result"
    }
   ],
   "source": [
    "data_sd_fixed[data_sd_fixed[\"age\"]==0][\"home prices\"].max()"
   ]
  },
  {
   "cell_type": "code",
   "execution_count": 145,
   "id": "b586e0e0-9119-4512-9efb-69ce1a293e6e",
   "metadata": {},
   "outputs": [
    {
     "data": {
      "text/plain": [
       "beylikduzu       1267\n",
       "kadikoy           891\n",
       "maltepe           840\n",
       "esenyurt          791\n",
       "kucukcekmece      460\n",
       "bahcelievler      416\n",
       "sancaktepe        355\n",
       "kagithane         330\n",
       "uskudar           324\n",
       "cekmekoy          301\n",
       "kartal            254\n",
       "avcilar           251\n",
       "eyupsultan        245\n",
       "buyukcekmece      230\n",
       "basaksehir        181\n",
       "sultanbeyli       167\n",
       "sultangazi        151\n",
       "umraniye          137\n",
       "bakirkoy          133\n",
       "gaziosmanpasa     115\n",
       "zeytinburnu       110\n",
       "silivri            97\n",
       "sisli              97\n",
       "arnavutkoy         97\n",
       "pendik             93\n",
       "besiktas           90\n",
       "tuzla              77\n",
       "bayrampasa         70\n",
       "sariyer            58\n",
       "beyoglu            52\n",
       "bagcilar           52\n",
       "fatih              42\n",
       "esenler            39\n",
       "atasehir           34\n",
       "gungoren           26\n",
       "sile               22\n",
       "beykoz              3\n",
       "Name: location, dtype: int64"
      ]
     },
     "execution_count": 145,
     "metadata": {},
     "output_type": "execute_result"
    }
   ],
   "source": [
    "data_sd_fixed[data_sd_fixed[\"age\"]==0][\"location\"].value_counts()"
   ]
  },
  {
   "cell_type": "code",
   "execution_count": 151,
   "id": "30833619-44e0-4921-aad4-7355333ec4b7",
   "metadata": {},
   "outputs": [
    {
     "data": {
      "text/plain": [
       "2 + 1     19408\n",
       "3 + 1     15468\n",
       "1 + 1      4764\n",
       "4 + 1      1765\n",
       "3 + 2       751\n",
       "4 + 2       725\n",
       "2 + 2       198\n",
       "5 + 1       168\n",
       "5 + 2       102\n",
       "6 + 1        25\n",
       "3 + 3        18\n",
       "6 + 2        13\n",
       "1 + 2         9\n",
       "3 + 0         6\n",
       "4 + 4         5\n",
       "2 + 0         5\n",
       "1 + 3         4\n",
       "4 + 0         3\n",
       "4 + 3         2\n",
       "7 + 1         2\n",
       "2 + 4         2\n",
       "4 + 5         1\n",
       "2 + 10        1\n",
       "1 + 5         1\n",
       "5 + 4         1\n",
       "3 + 4         1\n",
       "2 + 3         1\n",
       "3 + 12        1\n",
       "3 + 5         1\n",
       "11 + 1        1\n",
       "Name: room count, dtype: int64"
      ]
     },
     "execution_count": 151,
     "metadata": {},
     "output_type": "execute_result"
    }
   ],
   "source": [
    "data_sd_fixed[\"room count\"].value_counts()"
   ]
  },
  {
   "cell_type": "code",
   "execution_count": 76,
   "id": "fa65f40e-2edd-451a-ac2c-2da83321a06a",
   "metadata": {},
   "outputs": [],
   "source": [
    "data_sd_fixed = data_sd_fixed[data_sd_fixed[\"room count\"] != \"Stüdyo\"].reset_index(drop=True)"
   ]
  },
  {
   "cell_type": "code",
   "execution_count": 149,
   "id": "6afbe733-4c69-4b56-b5eb-e8e7297cef10",
   "metadata": {},
   "outputs": [],
   "source": [
    "# aykiri degerleri cikariyoruz.\n",
    "data_sd_fixed = data_sd_fixed[ (data_sd_fixed[\"room count\"] != \"Stüdyo\")\n",
    "              & (data_sd_fixed[\"room count\"] != \"2 + 100\")\n",
    "              & (data_sd_fixed[\"room count\"] != \"135 + 115\") \n",
    "              & (data_sd_fixed[\"room count\"] != \"31 + 1\") \n",
    "              & (data_sd_fixed[\"room count\"] != \"30 + 1\") \n",
    "              & (data_sd_fixed[\"room count\"] != \"41 + 1\") \n",
    "              & (data_sd_fixed[\"room count\"] != \"3 + 145\") \n",
    "              & (data_sd_fixed[\"room count\"] != \"21 + 1\") \n",
    "              & (data_sd_fixed[\"room count\"] != \"2 + 11\") \n",
    "              & (data_sd_fixed[\"room count\"] != \"3 + 11\") \n",
    "              & (data_sd_fixed[\"room count\"] != \"2 + 13\") \n",
    "              & (data_sd_fixed[\"room count\"] != \"25 + 1\")].reset_index(drop=True)"
   ]
  },
  {
   "cell_type": "code",
   "execution_count": 152,
   "id": "47ce2535-40a9-4ac8-bc4d-a35e61507463",
   "metadata": {},
   "outputs": [],
   "source": [
    "data_sd_fixed.to_csv(\"istanbul_ev_ilanlari(manipüle_edilmis).csv\")"
   ]
  }
 ],
 "metadata": {
  "kernelspec": {
   "display_name": "Python 3 (ipykernel)",
   "language": "python",
   "name": "python3"
  },
  "language_info": {
   "codemirror_mode": {
    "name": "ipython",
    "version": 3
   },
   "file_extension": ".py",
   "mimetype": "text/x-python",
   "name": "python",
   "nbconvert_exporter": "python",
   "pygments_lexer": "ipython3",
   "version": "3.10.9"
  }
 },
 "nbformat": 4,
 "nbformat_minor": 5
}
